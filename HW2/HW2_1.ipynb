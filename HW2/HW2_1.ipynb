{
 "cells": [
  {
   "cell_type": "markdown",
   "metadata": {},
   "source": [
    "# NYCU LLM HW2 \n",
    "## Written By 313511068 練鈞揚"
   ]
  },
  {
   "cell_type": "code",
   "execution_count": 1,
   "metadata": {
    "_cell_guid": "b1076dfc-b9ad-4769-8c92-a6c4dae69d19",
    "_uuid": "8f2839f25d086af736a60e9eeb907d3b93b6e0e5",
    "execution": {
     "iopub.execute_input": "2024-11-03T15:56:26.256100Z",
     "iopub.status.busy": "2024-11-03T15:56:26.255672Z",
     "iopub.status.idle": "2024-11-03T15:56:47.962846Z",
     "shell.execute_reply": "2024-11-03T15:56:47.961958Z",
     "shell.execute_reply.started": "2024-11-03T15:56:26.256059Z"
    },
    "trusted": true
   },
   "outputs": [
    {
     "name": "stderr",
     "output_type": "stream",
     "text": [
      "/home/keithlin/Code/NYCU_LLM_2024/HW2/.venv/lib/python3.11/site-packages/tqdm/auto.py:21: TqdmWarning: IProgress not found. Please update jupyter and ipywidgets. See https://ipywidgets.readthedocs.io/en/stable/user_install.html\n",
      "  from .autonotebook import tqdm as notebook_tqdm\n",
      "2024-11-11 09:24:30.535300: E external/local_xla/xla/stream_executor/cuda/cuda_fft.cc:477] Unable to register cuFFT factory: Attempting to register factory for plugin cuFFT when one has already been registered\n",
      "WARNING: All log messages before absl::InitializeLog() is called are written to STDERR\n",
      "E0000 00:00:1731317070.549017 3069263 cuda_dnn.cc:8310] Unable to register cuDNN factory: Attempting to register factory for plugin cuDNN when one has already been registered\n",
      "E0000 00:00:1731317070.553239 3069263 cuda_blas.cc:1418] Unable to register cuBLAS factory: Attempting to register factory for plugin cuBLAS when one has already been registered\n",
      "2024-11-11 09:24:30.567249: I tensorflow/core/platform/cpu_feature_guard.cc:210] This TensorFlow binary is optimized to use available CPU instructions in performance-critical operations.\n",
      "To enable the following instructions: AVX2 FMA, in other operations, rebuild TensorFlow with the appropriate compiler flags.\n"
     ]
    }
   ],
   "source": [
    "import torch\n",
    "import pandas as pd\n",
    "from transformers import AutoTokenizer, AutoModelForSeq2SeqLM, Seq2SeqTrainer, Seq2SeqTrainingArguments\n",
    "from datasets import Dataset\n",
    "from rich import print\n",
    "from rouge_score import rouge_scorer\n",
    "import evaluate\n",
    "from tqdm import tqdm\n",
    "import numpy as np"
   ]
  },
  {
   "cell_type": "markdown",
   "metadata": {},
   "source": [
    "## Load data"
   ]
  },
  {
   "cell_type": "code",
   "execution_count": 2,
   "metadata": {},
   "outputs": [],
   "source": [
    "def csv_to_dataset(path:str):\n",
    "    return Dataset.from_pandas(pd.read_csv(path))"
   ]
  },
  {
   "cell_type": "code",
   "execution_count": 3,
   "metadata": {},
   "outputs": [],
   "source": [
    "train_dataset = csv_to_dataset(\"./data/train.csv\")\n",
    "validation_dataset = csv_to_dataset(\"./data/validation.csv\")\n",
    "test_dataset = csv_to_dataset(\"./data/test.csv\")"
   ]
  },
  {
   "cell_type": "code",
   "execution_count": 4,
   "metadata": {},
   "outputs": [
    {
     "data": {
      "text/html": [
       "<pre style=\"white-space:pre;overflow-x:auto;line-height:normal;font-family:Menlo,'DejaVu Sans Mono',consolas,'Courier New',monospace\"><span style=\"color: #800080; text-decoration-color: #800080; font-weight: bold\">Dataset</span><span style=\"font-weight: bold\">({</span>\n",
       "    features: <span style=\"font-weight: bold\">[</span><span style=\"color: #008000; text-decoration-color: #008000\">'id'</span>, <span style=\"color: #008000; text-decoration-color: #008000\">'article'</span>, <span style=\"color: #008000; text-decoration-color: #008000\">'highlights'</span><span style=\"font-weight: bold\">]</span>,\n",
       "    num_rows: <span style=\"color: #008080; text-decoration-color: #008080; font-weight: bold\">2871</span>\n",
       "<span style=\"font-weight: bold\">})</span> <span style=\"color: #800080; text-decoration-color: #800080; font-weight: bold\">Dataset</span><span style=\"font-weight: bold\">({</span>\n",
       "    features: <span style=\"font-weight: bold\">[</span><span style=\"color: #008000; text-decoration-color: #008000\">'id'</span>, <span style=\"color: #008000; text-decoration-color: #008000\">'article'</span>, <span style=\"color: #008000; text-decoration-color: #008000\">'highlights'</span><span style=\"font-weight: bold\">]</span>,\n",
       "    num_rows: <span style=\"color: #008080; text-decoration-color: #008080; font-weight: bold\">134</span>\n",
       "<span style=\"font-weight: bold\">})</span> <span style=\"color: #800080; text-decoration-color: #800080; font-weight: bold\">Dataset</span><span style=\"font-weight: bold\">({</span>\n",
       "    features: <span style=\"font-weight: bold\">[</span><span style=\"color: #008000; text-decoration-color: #008000\">'id'</span>, <span style=\"color: #008000; text-decoration-color: #008000\">'article'</span>, <span style=\"color: #008000; text-decoration-color: #008000\">'highlights'</span><span style=\"font-weight: bold\">]</span>,\n",
       "    num_rows: <span style=\"color: #008080; text-decoration-color: #008080; font-weight: bold\">115</span>\n",
       "<span style=\"font-weight: bold\">})</span>\n",
       "</pre>\n"
      ],
      "text/plain": [
       "\u001b[1;35mDataset\u001b[0m\u001b[1m(\u001b[0m\u001b[1m{\u001b[0m\n",
       "    features: \u001b[1m[\u001b[0m\u001b[32m'id'\u001b[0m, \u001b[32m'article'\u001b[0m, \u001b[32m'highlights'\u001b[0m\u001b[1m]\u001b[0m,\n",
       "    num_rows: \u001b[1;36m2871\u001b[0m\n",
       "\u001b[1m}\u001b[0m\u001b[1m)\u001b[0m \u001b[1;35mDataset\u001b[0m\u001b[1m(\u001b[0m\u001b[1m{\u001b[0m\n",
       "    features: \u001b[1m[\u001b[0m\u001b[32m'id'\u001b[0m, \u001b[32m'article'\u001b[0m, \u001b[32m'highlights'\u001b[0m\u001b[1m]\u001b[0m,\n",
       "    num_rows: \u001b[1;36m134\u001b[0m\n",
       "\u001b[1m}\u001b[0m\u001b[1m)\u001b[0m \u001b[1;35mDataset\u001b[0m\u001b[1m(\u001b[0m\u001b[1m{\u001b[0m\n",
       "    features: \u001b[1m[\u001b[0m\u001b[32m'id'\u001b[0m, \u001b[32m'article'\u001b[0m, \u001b[32m'highlights'\u001b[0m\u001b[1m]\u001b[0m,\n",
       "    num_rows: \u001b[1;36m115\u001b[0m\n",
       "\u001b[1m}\u001b[0m\u001b[1m)\u001b[0m\n"
      ]
     },
     "metadata": {},
     "output_type": "display_data"
    }
   ],
   "source": [
    "print(train_dataset, validation_dataset, test_dataset)"
   ]
  },
  {
   "cell_type": "code",
   "execution_count": 5,
   "metadata": {},
   "outputs": [
    {
     "data": {
      "text/html": [
       "<pre style=\"white-space:pre;overflow-x:auto;line-height:normal;font-family:Menlo,'DejaVu Sans Mono',consolas,'Courier New',monospace\"><span style=\"color: #008080; text-decoration-color: #008080; font-weight: bold\">1899</span> <span style=\"color: #008080; text-decoration-color: #008080; font-weight: bold\">1709</span> <span style=\"color: #008080; text-decoration-color: #008080; font-weight: bold\">1801</span>\n",
       "</pre>\n"
      ],
      "text/plain": [
       "\u001b[1;36m1899\u001b[0m \u001b[1;36m1709\u001b[0m \u001b[1;36m1801\u001b[0m\n"
      ]
     },
     "metadata": {},
     "output_type": "display_data"
    }
   ],
   "source": [
    "get_max_len = lambda column, dataset: max(len(item[column].split()) for item in dataset)\n",
    "\n",
    "train_max_len = get_max_len(\"article\", train_dataset)\n",
    "validation_max_len = get_max_len(\"article\", validation_dataset)\n",
    "test_max_len = get_max_len(\"article\", test_dataset)\n",
    "    \n",
    "print(train_max_len, validation_max_len, test_max_len )"
   ]
  },
  {
   "cell_type": "code",
   "execution_count": 6,
   "metadata": {},
   "outputs": [
    {
     "data": {
      "text/html": [
       "<pre style=\"white-space:pre;overflow-x:auto;line-height:normal;font-family:Menlo,'DejaVu Sans Mono',consolas,'Courier New',monospace\"><span style=\"color: #008080; text-decoration-color: #008080; font-weight: bold\">704</span> <span style=\"color: #008080; text-decoration-color: #008080; font-weight: bold\">574</span> <span style=\"color: #008080; text-decoration-color: #008080; font-weight: bold\">149</span>\n",
       "</pre>\n"
      ],
      "text/plain": [
       "\u001b[1;36m704\u001b[0m \u001b[1;36m574\u001b[0m \u001b[1;36m149\u001b[0m\n"
      ]
     },
     "metadata": {},
     "output_type": "display_data"
    }
   ],
   "source": [
    "get_max_len = lambda column, dataset: max(len(item[column].split()) for item in dataset)\n",
    "\n",
    "train_max_len = get_max_len(\"highlights\", train_dataset)\n",
    "validation_max_len = get_max_len(\"highlights\", validation_dataset)\n",
    "test_max_len = get_max_len(\"highlights\", test_dataset)\n",
    "    \n",
    "print(train_max_len, validation_max_len, test_max_len )"
   ]
  },
  {
   "cell_type": "markdown",
   "metadata": {},
   "source": [
    "## Load tokenizer"
   ]
  },
  {
   "cell_type": "code",
   "execution_count": 50,
   "metadata": {},
   "outputs": [],
   "source": [
    "tokenizer = AutoTokenizer.from_pretrained(\"google-t5/t5-small\")"
   ]
  },
  {
   "cell_type": "code",
   "execution_count": 8,
   "metadata": {},
   "outputs": [],
   "source": [
    "def preprocess_function(examples):\n",
    "    # 在输入文本前加上任务前缀\n",
    "    inputs = [doc for doc in examples[\"article\"]]\n",
    "    model_inputs = tokenizer(inputs, max_length=512, truncation=True, padding=\"max_length\")\n",
    "    \n",
    "    # 标记化目标文本\n",
    "    \n",
    "    labels = tokenizer(text_target=examples[\"highlights\"], max_length=128, truncation=True, padding=\"max_length\")\n",
    "    \n",
    "    model_inputs[\"labels\"] = labels[\"input_ids\"]\n",
    "    return model_inputs"
   ]
  },
  {
   "cell_type": "markdown",
   "metadata": {},
   "source": [
    "## Process data"
   ]
  },
  {
   "cell_type": "code",
   "execution_count": 9,
   "metadata": {},
   "outputs": [
    {
     "name": "stderr",
     "output_type": "stream",
     "text": [
      "Map: 100%|██████████| 2871/2871 [00:01<00:00, 1773.65 examples/s]\n",
      "Map: 100%|██████████| 134/134 [00:00<00:00, 1727.11 examples/s]\n",
      "Map: 100%|██████████| 115/115 [00:00<00:00, 1726.48 examples/s]\n"
     ]
    }
   ],
   "source": [
    "train_dataset = train_dataset.map(preprocess_function, batched=True)\n",
    "validation_dataset = validation_dataset.map(preprocess_function, batched=True)\n",
    "test_dataset = test_dataset.map(preprocess_function, batched=True)"
   ]
  },
  {
   "cell_type": "markdown",
   "metadata": {},
   "source": [
    "## Load model"
   ]
  },
  {
   "cell_type": "code",
   "execution_count": 10,
   "metadata": {},
   "outputs": [],
   "source": [
    "model = AutoModelForSeq2SeqLM.from_pretrained(\"google-t5/t5-small\")"
   ]
  },
  {
   "cell_type": "code",
   "execution_count": null,
   "metadata": {},
   "outputs": [],
   "source": [
    "training_args = Seq2SeqTrainingArguments(\n",
    "    output_dir=\"./results\",\n",
    "    eval_strategy=\"epoch\",\n",
    "    learning_rate=2e-5,\n",
    "    logging_strategy=\"epoch\",\n",
    "    per_device_train_batch_size=16,\n",
    "    per_device_eval_batch_size=16,\n",
    "    weight_decay=0.01,\n",
    "    save_total_limit=3,\n",
    "    num_train_epochs=5,\n",
    "    predict_with_generate=True,\n",
    "    generation_max_length=128,\n",
    "    logging_dir='./logs',\n",
    ")"
   ]
  },
  {
   "cell_type": "code",
   "execution_count": 12,
   "metadata": {},
   "outputs": [],
   "source": [
    "trainer = Seq2SeqTrainer(\n",
    "    model=model,\n",
    "    args=training_args,\n",
    "    train_dataset=train_dataset,\n",
    "    eval_dataset=validation_dataset,\n",
    "    processing_class=tokenizer,\n",
    ")"
   ]
  },
  {
   "cell_type": "code",
   "execution_count": 13,
   "metadata": {},
   "outputs": [
    {
     "name": "stderr",
     "output_type": "stream",
     "text": [
      "Passing a tuple of `past_key_values` is deprecated and will be removed in Transformers v4.48.0. You should pass an instance of `EncoderDecoderCache` instead, e.g. `past_key_values=EncoderDecoderCache.from_legacy_cache(past_key_values)`.\n"
     ]
    },
    {
     "data": {
      "text/html": [
       "\n",
       "    <div>\n",
       "      \n",
       "      <progress value='900' max='900' style='width:300px; height:20px; vertical-align: middle;'></progress>\n",
       "      [900/900 04:36, Epoch 5/5]\n",
       "    </div>\n",
       "    <table border=\"1\" class=\"dataframe\">\n",
       "  <thead>\n",
       " <tr style=\"text-align: left;\">\n",
       "      <th>Epoch</th>\n",
       "      <th>Training Loss</th>\n",
       "      <th>Validation Loss</th>\n",
       "    </tr>\n",
       "  </thead>\n",
       "  <tbody>\n",
       "    <tr>\n",
       "      <td>1</td>\n",
       "      <td>No log</td>\n",
       "      <td>1.370111</td>\n",
       "    </tr>\n",
       "    <tr>\n",
       "      <td>2</td>\n",
       "      <td>No log</td>\n",
       "      <td>1.295543</td>\n",
       "    </tr>\n",
       "    <tr>\n",
       "      <td>3</td>\n",
       "      <td>2.125700</td>\n",
       "      <td>1.274066</td>\n",
       "    </tr>\n",
       "    <tr>\n",
       "      <td>4</td>\n",
       "      <td>2.125700</td>\n",
       "      <td>1.267689</td>\n",
       "    </tr>\n",
       "    <tr>\n",
       "      <td>5</td>\n",
       "      <td>2.125700</td>\n",
       "      <td>1.266208</td>\n",
       "    </tr>\n",
       "  </tbody>\n",
       "</table><p>"
      ],
      "text/plain": [
       "<IPython.core.display.HTML object>"
      ]
     },
     "metadata": {},
     "output_type": "display_data"
    },
    {
     "data": {
      "text/plain": [
       "TrainOutput(global_step=900, training_loss=1.7366429646809896, metrics={'train_runtime': 276.6518, 'train_samples_per_second': 51.888, 'train_steps_per_second': 3.253, 'total_flos': 1942831560130560.0, 'train_loss': 1.7366429646809896, 'epoch': 5.0})"
      ]
     },
     "execution_count": 13,
     "metadata": {},
     "output_type": "execute_result"
    }
   ],
   "source": [
    "trainer.train()"
   ]
  },
  {
   "cell_type": "code",
   "execution_count": 14,
   "metadata": {},
   "outputs": [],
   "source": [
    "# Extract loss data from trainer's log history\n",
    "train_loss = []\n",
    "eval_loss = []\n",
    "epochs_train, epochs_eval = [], []\n",
    "\n",
    "for log in trainer.state.log_history:\n",
    "    if \"loss\" in log.keys():\n",
    "        train_loss.append(log[\"loss\"])\n",
    "        epochs_train.append(log[\"epoch\"])\n",
    "    if \"eval_loss\" in log.keys():\n",
    "        eval_loss.append(log[\"eval_loss\"])\n",
    "        epochs_eval.append(log[\"epoch\"])"
   ]
  },
  {
   "cell_type": "code",
   "execution_count": 15,
   "metadata": {},
   "outputs": [
    {
     "data": {
      "text/plain": [
       "[2.7777777777777777]"
      ]
     },
     "execution_count": 15,
     "metadata": {},
     "output_type": "execute_result"
    }
   ],
   "source": [
    "epochs_train"
   ]
  },
  {
   "cell_type": "code",
   "execution_count": 16,
   "metadata": {},
   "outputs": [
    {
     "data": {
      "text/plain": [
       "[1.0, 2.0, 3.0, 4.0, 5.0]"
      ]
     },
     "execution_count": 16,
     "metadata": {},
     "output_type": "execute_result"
    }
   ],
   "source": [
    "epochs_eval"
   ]
  },
  {
   "cell_type": "code",
   "execution_count": 17,
   "metadata": {},
   "outputs": [
    {
     "data": {
      "text/plain": [
       "[2.1257]"
      ]
     },
     "execution_count": 17,
     "metadata": {},
     "output_type": "execute_result"
    }
   ],
   "source": [
    "train_loss"
   ]
  },
  {
   "cell_type": "code",
   "execution_count": 18,
   "metadata": {},
   "outputs": [
    {
     "data": {
      "text/plain": [
       "[1.3701106309890747,\n",
       " 1.2955430746078491,\n",
       " 1.2740657329559326,\n",
       " 1.2676889896392822,\n",
       " 1.2662080526351929]"
      ]
     },
     "execution_count": 18,
     "metadata": {},
     "output_type": "execute_result"
    }
   ],
   "source": [
    "eval_loss"
   ]
  },
  {
   "cell_type": "code",
   "execution_count": 19,
   "metadata": {},
   "outputs": [
    {
     "data": {
      "image/png": "[encoded data removed]",
      "text/plain": [
       "<Figure size 1000x600 with 1 Axes>"
      ]
     },
     "metadata": {},
     "output_type": "display_data"
    }
   ],
   "source": [
    "import matplotlib.pyplot as plt\n",
    "\n",
    "plt.figure(figsize=(10, 6))\n",
    "plt.plot(epochs_train, train_loss, label=\"Training Loss\", marker=\"o\")\n",
    "plt.plot(epochs_eval, eval_loss, label=\"Validation Loss\", marker=\"o\")\n",
    "plt.xlabel(\"Epoch\")\n",
    "plt.ylabel(\"Loss\")\n",
    "plt.title(\"Training and Validation Loss\")\n",
    "plt.legend()\n",
    "plt.grid()\n",
    "plt.show()\n"
   ]
  },
  {
   "cell_type": "code",
   "execution_count": 20,
   "metadata": {},
   "outputs": [
    {
     "data": {
      "text/html": [
       "\n",
       "    <div>\n",
       "      \n",
       "      <progress value='8' max='8' style='width:300px; height:20px; vertical-align: middle;'></progress>\n",
       "      [8/8 00:00]\n",
       "    </div>\n",
       "    "
      ],
      "text/plain": [
       "<IPython.core.display.HTML object>"
      ]
     },
     "metadata": {},
     "output_type": "display_data"
    },
    {
     "data": {
      "text/html": [
       "<pre style=\"white-space:pre;overflow-x:auto;line-height:normal;font-family:Menlo,'DejaVu Sans Mono',consolas,'Courier New',monospace\">评估结果:\n",
       "<span style=\"font-weight: bold\">{</span>\n",
       "    <span style=\"color: #008000; text-decoration-color: #008000\">'eval_loss'</span>: <span style=\"color: #008080; text-decoration-color: #008080; font-weight: bold\">1.2410852909088135</span>,\n",
       "    <span style=\"color: #008000; text-decoration-color: #008000\">'eval_runtime'</span>: <span style=\"color: #008080; text-decoration-color: #008080; font-weight: bold\">0.7615</span>,\n",
       "    <span style=\"color: #008000; text-decoration-color: #008000\">'eval_samples_per_second'</span>: <span style=\"color: #008080; text-decoration-color: #008080; font-weight: bold\">151.019</span>,\n",
       "    <span style=\"color: #008000; text-decoration-color: #008000\">'eval_steps_per_second'</span>: <span style=\"color: #008080; text-decoration-color: #008080; font-weight: bold\">10.506</span>,\n",
       "    <span style=\"color: #008000; text-decoration-color: #008000\">'epoch'</span>: <span style=\"color: #008080; text-decoration-color: #008080; font-weight: bold\">5.0</span>\n",
       "<span style=\"font-weight: bold\">}</span>\n",
       "</pre>\n"
      ],
      "text/plain": [
       "评估结果:\n",
       "\u001b[1m{\u001b[0m\n",
       "    \u001b[32m'eval_loss'\u001b[0m: \u001b[1;36m1.2410852909088135\u001b[0m,\n",
       "    \u001b[32m'eval_runtime'\u001b[0m: \u001b[1;36m0.7615\u001b[0m,\n",
       "    \u001b[32m'eval_samples_per_second'\u001b[0m: \u001b[1;36m151.019\u001b[0m,\n",
       "    \u001b[32m'eval_steps_per_second'\u001b[0m: \u001b[1;36m10.506\u001b[0m,\n",
       "    \u001b[32m'epoch'\u001b[0m: \u001b[1;36m5.0\u001b[0m\n",
       "\u001b[1m}\u001b[0m\n"
      ]
     },
     "metadata": {},
     "output_type": "display_data"
    }
   ],
   "source": [
    "results = trainer.evaluate(test_dataset)\n",
    "print(\"评估结果:\", results)"
   ]
  },
  {
   "cell_type": "code",
   "execution_count": 83,
   "metadata": {},
   "outputs": [],
   "source": [
    "from transformers import PreTrainedTokenizerFast\n",
    "from collections import Counter\n",
    "from dataclasses import dataclass\n",
    "import numpy as np\n",
    "\n",
    "\n",
    "@dataclass\n",
    "class RougeScoreResult:\n",
    "    precision: float\n",
    "    recall: float\n",
    "    fmeasure: float\n",
    "\n",
    "    @classmethod\n",
    "    def build(cls, precision: float, recall: float):\n",
    "        if precision + recall <= 0:\n",
    "            return cls(precision, recall, 0)\n",
    "\n",
    "        fmeasure = 2 * (precision * recall) / (precision + recall)\n",
    "\n",
    "        return cls(precision, recall, fmeasure)\n",
    "\n",
    "\n",
    "class RougeScore:\n",
    "    def __init__(\n",
    "        self,\n",
    "        tokenizer: PreTrainedTokenizerFast,\n",
    "        rouge_n: list[int] = [1],\n",
    "        rouge_l: bool = False,\n",
    "    ):\n",
    "        self._rouge_n = rouge_n\n",
    "        self._rouge_l = rouge_l\n",
    "        self._tokenizer = tokenizer\n",
    "\n",
    "    def score(self, prediction: str, target: str) -> dict[str, RougeScoreResult]:\n",
    "        target_tokens = self._tokenizer.tokenize(target)\n",
    "        prediction_tokens = self._tokenizer.tokenize(prediction)\n",
    "        result = {}\n",
    "\n",
    "        if self._rouge_l:\n",
    "            result[\"rougeL\"] = RougeScore._score_lcs(target_tokens, prediction_tokens)\n",
    "\n",
    "        for n in self._rouge_n:\n",
    "            target_n_grams = RougeScore._build_n_gram(target_tokens, n)\n",
    "            prediction_n_grams = RougeScore._build_n_gram(prediction_tokens, n)\n",
    "            scores = RougeScore._score_n_grams(target_n_grams, prediction_n_grams)\n",
    "            result[f\"rouge{n}\"] = scores\n",
    "\n",
    "        return result\n",
    "\n",
    "    def avg_score(\n",
    "        self, predictions: list[str], targets: list[str]\n",
    "    ) -> dict[str, RougeScoreResult]:\n",
    "\n",
    "        all_result = [\n",
    "            self.score(prediction, target)\n",
    "            for prediction, target in zip(predictions, targets)\n",
    "        ]\n",
    "        result = dict()\n",
    "\n",
    "        result[\"avg rougeL\"] = np.mean([item[\"rougeL\"].fmeasure for item in all_result])\n",
    "\n",
    "        for n in self._rouge_n:\n",
    "            result[f\"avg rouge{n}\"] = np.mean(\n",
    "                [item[f\"rouge{n}\"].fmeasure for item in all_result]\n",
    "            )\n",
    "\n",
    "        return result\n",
    "\n",
    "    @staticmethod\n",
    "    def build_score(precision: float, recall: float):\n",
    "        return RougeScoreResult.build(precision, recall)\n",
    "\n",
    "    @staticmethod\n",
    "    def _build_n_gram(tokens: list[str], n: int) -> dict:\n",
    "        # n_grams = Counter()\n",
    "        n_grams = [tuple(tokens[i : i + n]) for i in range(len(tokens) - n + 1)]\n",
    "        n_grams = Counter(n_grams)\n",
    "        return n_grams\n",
    "\n",
    "    @staticmethod\n",
    "    def _score_lcs(target_tokens: list[str], prediction_tokens: list[str]):\n",
    "\n",
    "        if not target_tokens or not prediction_tokens:\n",
    "            return RougeScore.build_score(precision=0, recall=0)\n",
    "\n",
    "        # Compute length of LCS from the bottom up in a table (DP approach).\n",
    "        lcs_table = RougeScore._lcs_table(target_tokens, prediction_tokens)\n",
    "        lcs_length = lcs_table[-1][-1]\n",
    "\n",
    "        precision = lcs_length / len(prediction_tokens)\n",
    "        recall = lcs_length / len(target_tokens)\n",
    "\n",
    "        return RougeScore.build_score(precision=precision, recall=recall)\n",
    "\n",
    "    @staticmethod\n",
    "    def _lcs_table(ref: list[str], can: list[str]):\n",
    "        \"\"\"Create 2-d LCS score table.\"\"\"\n",
    "        rows, cols = len(ref), len(can)\n",
    "        lcs_table = [[0] * (cols + 1) for _ in range(rows + 1)]\n",
    "        for i in range(1, rows + 1):\n",
    "            for j in range(1, cols + 1):\n",
    "                if ref[i - 1] == can[j - 1]:\n",
    "                    lcs_table[i][j] = lcs_table[i - 1][j - 1] + 1\n",
    "                else:\n",
    "                    lcs_table[i][j] = max(lcs_table[i - 1][j], lcs_table[i][j - 1])\n",
    "        return lcs_table\n",
    "\n",
    "    @staticmethod\n",
    "    def _score_n_grams(\n",
    "        target_n_grams: Counter[tuple[str, ...]],\n",
    "        prediction_n_grams: Counter[tuple[str, ...]],\n",
    "    ):\n",
    "        intersection_ngrams_count = sum(\n",
    "            min(target_n_grams[ngram], prediction_n_grams.get(ngram, 0))\n",
    "            for ngram in target_n_grams\n",
    "        )\n",
    "\n",
    "        # Calculate total counts for precision and recall\n",
    "        target_ngrams_count = sum(target_n_grams.values())\n",
    "        prediction_ngrams_count = sum(prediction_n_grams.values())\n",
    "\n",
    "        # Calculate precision, recall, and F1\n",
    "        precision = intersection_ngrams_count / max(prediction_ngrams_count, 1)\n",
    "        recall = intersection_ngrams_count / max(target_ngrams_count, 1)\n",
    "\n",
    "        return RougeScore.build_score(precision, recall)"
   ]
  },
  {
   "cell_type": "code",
   "execution_count": 84,
   "metadata": {},
   "outputs": [],
   "source": [
    "# rouge = rouge_scorer.RougeScorer([\"rouge1\", \"rouge2\", \"rougeL\"], use_stemmer=True, tokenizer=tokenizer)\n",
    "rouge = RougeScore(tokenizer=tokenizer, rouge_n=[1,2], rouge_l=True)"
   ]
  },
  {
   "cell_type": "code",
   "execution_count": 58,
   "metadata": {},
   "outputs": [],
   "source": [
    "def run_test(model_in, test_dataset_in):\n",
    "    \n",
    "    all_predict, all_target, all_score = [], [], []\n",
    "    for item in tqdm(test_dataset_in, desc=\"testing\", unit=\"case\"):\n",
    "        target = item[\"highlights\"].replace(\"\\n\", \" \")\n",
    "        \n",
    "        input_ids = tokenizer(item[\"article\"], return_tensors=\"pt\",truncation=True, max_length=512).to(\"cuda\")\n",
    "        outputs = model_in.generate(**input_ids, max_length=128)\n",
    "        res = tokenizer.decode(outputs[0], skip_special_tokens=True)\n",
    "        \n",
    "        score =  rouge.score(prediction=res, target=target)\n",
    "        \n",
    "        all_predict.append(res)\n",
    "        all_target.append(target)\n",
    "        all_score.append(score)\n",
    "    \n",
    "    rouge1_avg = np.mean([item['rouge1'].fmeasure for item in all_score])\n",
    "    rouge2_avg = np.mean([item['rouge2'].fmeasure for item in all_score])\n",
    "    rougeL_avg = np.mean([item['rougeL'].fmeasure for item in all_score])\n",
    "    \n",
    "    avg_result = {\"avg rouge1\": rouge1_avg, \"avg rouge2\": rouge2_avg,\"avg rougeL\": rougeL_avg}\n",
    "    \n",
    "    return all_predict,all_target,all_score,avg_result"
   ]
  },
  {
   "cell_type": "code",
   "execution_count": 30,
   "metadata": {},
   "outputs": [
    {
     "name": "stderr",
     "output_type": "stream",
     "text": [
      "testing: 100%|██████████| 115/115 [01:03<00:00,  1.80case/s]\n"
     ]
    }
   ],
   "source": [
    "all_predict, all_target, all_score = [], [], []\n",
    "for item in tqdm(test_dataset, desc=\"testing\", unit=\"case\"):\n",
    "    target = item[\"highlights\"].replace(\"\\n\", \" \")\n",
    "    \n",
    "    input_ids = tokenizer(item[\"article\"], return_tensors=\"pt\",truncation=True, max_length=512).to(\"cuda\")\n",
    "    outputs = model.generate(**input_ids, max_length=128)\n",
    "    res = tokenizer.decode(outputs[0], skip_special_tokens=True)\n",
    "    \n",
    "    score =  rouge.score(prediction=res, target=target)\n",
    "    \n",
    "    all_predict.append(res)\n",
    "    all_target.append(target)\n",
    "    all_score.append(score)"
   ]
  },
  {
   "cell_type": "code",
   "execution_count": 33,
   "metadata": {},
   "outputs": [],
   "source": [
    "rouge1_avg = np.mean([item['rouge1'].fmeasure for item in all_score])\n",
    "rouge2_avg = np.mean([item['rouge2'].fmeasure for item in all_score])\n",
    "rougeL_avg = np.mean([item['rougeL'].fmeasure for item in all_score])"
   ]
  },
  {
   "cell_type": "code",
   "execution_count": 34,
   "metadata": {},
   "outputs": [
    {
     "data": {
      "text/html": [
       "<pre style=\"white-space:pre;overflow-x:auto;line-height:normal;font-family:Menlo,'DejaVu Sans Mono',consolas,'Courier New',monospace\"><span style=\"color: #008080; text-decoration-color: #008080; font-weight: bold\">0.3721902473173942</span> <span style=\"color: #008080; text-decoration-color: #008080; font-weight: bold\">0.17761226385154383</span> <span style=\"color: #008080; text-decoration-color: #008080; font-weight: bold\">0.2620152426578431</span>\n",
       "</pre>\n"
      ],
      "text/plain": [
       "\u001b[1;36m0.3721902473173942\u001b[0m \u001b[1;36m0.17761226385154383\u001b[0m \u001b[1;36m0.2620152426578431\u001b[0m\n"
      ]
     },
     "metadata": {},
     "output_type": "display_data"
    }
   ],
   "source": [
    "print(rouge1_avg ,rouge2_avg,  rougeL_avg)"
   ]
  },
  {
   "cell_type": "markdown",
   "metadata": {},
   "source": [
    "## Using hard prompt"
   ]
  },
  {
   "cell_type": "code",
   "execution_count": 54,
   "metadata": {},
   "outputs": [],
   "source": [
    "def preprocess_function_v2(examples):\n",
    "    # 在输入文本前加上任务前缀\n",
    "    inputs = [\"summarize:\" + doc for doc in examples[\"article\"]]\n",
    "    model_inputs = tokenizer(inputs, max_length=512, truncation=True, padding=\"max_length\")\n",
    "    \n",
    "    # 标记化目标文本\n",
    "    \n",
    "    labels = tokenizer(text_target=examples[\"highlights\"], max_length=128, truncation=True, padding=\"max_length\")\n",
    "    \n",
    "    model_inputs[\"labels\"] = labels[\"input_ids\"]\n",
    "    return model_inputs"
   ]
  },
  {
   "cell_type": "code",
   "execution_count": 55,
   "metadata": {},
   "outputs": [],
   "source": [
    "test_dataset_v2 = csv_to_dataset(\"./data/test.csv\")"
   ]
  },
  {
   "cell_type": "code",
   "execution_count": 45,
   "metadata": {},
   "outputs": [
    {
     "name": "stderr",
     "output_type": "stream",
     "text": [
      "Map: 100%|██████████| 115/115 [00:00<00:00, 1550.45 examples/s]\n"
     ]
    }
   ],
   "source": [
    "test_dataset_v2 = test_dataset_v2.map(preprocess_function, batched=True)"
   ]
  },
  {
   "cell_type": "code",
   "execution_count": 60,
   "metadata": {},
   "outputs": [],
   "source": [
    "model_v2 = AutoModelForSeq2SeqLM.from_pretrained(\"google-t5/t5-small\")"
   ]
  },
  {
   "cell_type": "code",
   "execution_count": 61,
   "metadata": {},
   "outputs": [],
   "source": [
    "model_v2 = model_v2.cuda()"
   ]
  },
  {
   "cell_type": "code",
   "execution_count": 65,
   "metadata": {},
   "outputs": [
    {
     "name": "stderr",
     "output_type": "stream",
     "text": [
      "testing: 100%|██████████| 115/115 [00:59<00:00,  1.92case/s]\n"
     ]
    }
   ],
   "source": [
    "all_predict,all_target,all_score,avg_result = run_test(model_v2, test_dataset_v2)"
   ]
  },
  {
   "cell_type": "code",
   "execution_count": 71,
   "metadata": {},
   "outputs": [
    {
     "data": {
      "text/html": [
       "<pre style=\"white-space:pre;overflow-x:auto;line-height:normal;font-family:Menlo,'DejaVu Sans Mono',consolas,'Courier New',monospace\"><span style=\"font-weight: bold\">{</span><span style=\"color: #008000; text-decoration-color: #008000\">'avg rouge1'</span>: <span style=\"color: #008080; text-decoration-color: #008080; font-weight: bold\">0.3946112195917424</span>, <span style=\"color: #008000; text-decoration-color: #008000\">'avg rouge2'</span>: <span style=\"color: #008080; text-decoration-color: #008080; font-weight: bold\">0.15714406526777147</span>, <span style=\"color: #008000; text-decoration-color: #008000\">'avg rougeL'</span>: <span style=\"color: #008080; text-decoration-color: #008080; font-weight: bold\">0.26469689384115463</span><span style=\"font-weight: bold\">}</span>\n",
       "</pre>\n"
      ],
      "text/plain": [
       "\u001b[1m{\u001b[0m\u001b[32m'avg rouge1'\u001b[0m: \u001b[1;36m0.3946112195917424\u001b[0m, \u001b[32m'avg rouge2'\u001b[0m: \u001b[1;36m0.15714406526777147\u001b[0m, \u001b[32m'avg rougeL'\u001b[0m: \u001b[1;36m0.26469689384115463\u001b[0m\u001b[1m}\u001b[0m\n"
      ]
     },
     "metadata": {},
     "output_type": "display_data"
    }
   ],
   "source": [
    "print(avg_result)"
   ]
  },
  {
   "cell_type": "code",
   "execution_count": 85,
   "metadata": {},
   "outputs": [],
   "source": [
    "test = rouge.avg_score(all_predict,all_target)"
   ]
  },
  {
   "cell_type": "code",
   "execution_count": 86,
   "metadata": {},
   "outputs": [
    {
     "data": {
      "text/plain": [
       "{'avg rougeL': 0.26469689384115463,\n",
       " 'avg rouge1': 0.3946112195917424,\n",
       " 'avg rouge2': 0.15714406526777147}"
      ]
     },
     "execution_count": 86,
     "metadata": {},
     "output_type": "execute_result"
    }
   ],
   "source": [
    "test"
   ]
  },
  {
   "cell_type": "code",
   "execution_count": null,
   "metadata": {},
   "outputs": [],
   "source": [
    "{'avg rouge1': 0.3946112195917424, 'avg rouge2': 0.15714406526777147, 'avg rougeL': 0.26469689384115463}"
   ]
  }
 ],
 "metadata": {
  "kaggle": {
   "accelerator": "gpu",
   "dataSources": [
    {
     "isSourceIdPinned": true,
     "modelId": 154602,
     "modelInstanceId": 131803,
     "sourceId": 155128,
     "sourceType": "modelInstanceVersion"
    }
   ],
   "dockerImageVersionId": 30787,
   "isGpuEnabled": true,
   "isInternetEnabled": true,
   "language": "python",
   "sourceType": "notebook"
  },
  "kernelspec": {
   "display_name": ".venv",
   "language": "python",
   "name": "python3"
  },
  "language_info": {
   "codemirror_mode": {
    "name": "ipython",
    "version": 3
   },
   "file_extension": ".py",
   "mimetype": "text/x-python",
   "name": "python",
   "nbconvert_exporter": "python",
   "pygments_lexer": "ipython3",
   "version": "3.11.9"
  }
 },
 "nbformat": 4,
 "nbformat_minor": 4
}
