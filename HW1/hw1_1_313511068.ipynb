{
 "cells": [
  {
   "cell_type": "markdown",
   "metadata": {},
   "source": [
    "# HW1 1 313511068"
   ]
  },
  {
   "cell_type": "markdown",
   "metadata": {},
   "source": [
    "## Part 1 N gram"
   ]
  },
  {
   "cell_type": "code",
   "execution_count": 67,
   "metadata": {},
   "outputs": [],
   "source": [
    "from collections import defaultdict\n",
    "from tqdm import tqdm\n",
    "from rich import print\n",
    "import psutil\n",
    "import pandas as pd\n",
    "import matplotlib.pyplot as plt"
   ]
  },
  {
   "cell_type": "code",
   "execution_count": 68,
   "metadata": {},
   "outputs": [],
   "source": [
    "def display_ram_usage():\n",
    "    \"\"\"获取并显示当前的内存使用情况。\"\"\"\n",
    "    ram = psutil.virtual_memory()\n",
    "    total_ram = ram.total / (1024 ** 3)  # 总内存 (GB)\n",
    "    used_ram = ram.used / (1024 ** 3)    # 已用内存 (GB)\n",
    "    percentage_used = ram.percent  # 已用内存百分比\n",
    "    return total_ram, used_ram, percentage_used"
   ]
  },
  {
   "cell_type": "code",
   "execution_count": 69,
   "metadata": {},
   "outputs": [],
   "source": [
    "\n",
    "class N_grams:\n",
    "    def __init__(self,n:int):\n",
    "        self._n = n + 1\n",
    "        self._model = defaultdict(lambda: defaultdict(int))\n",
    "        return \n",
    "    \n",
    "    def _generate_n_grams(self, text:str)->list[str]:\n",
    "        tokens = list(text.split(\" \"))\n",
    "        n_grams = [tokens[i:i+self._n] for i in range(len(tokens) - self._n + 1)]\n",
    "        return n_grams \n",
    "    \n",
    "    def train(self, corpus_list:list[str]):\n",
    "        for corpus in tqdm(corpus_list,desc=\"Training\",unit=\"line\", dynamic_ncols=True, leave=True):\n",
    "            ngrams = self._generate_n_grams(corpus)\n",
    "            \n",
    "            for ngram in ngrams:    \n",
    "                prefix = tuple(ngram[:-1])\n",
    "                next_word = ngram[-1]\n",
    "                \n",
    "                self._model[prefix][next_word] += 1\n",
    "        return \n",
    "    \n",
    "    def predict(self, prefix:list[str]):\n",
    "        if tuple(prefix) not in self._model:\n",
    "            return None\n",
    "        prefix_key = tuple(prefix)\n",
    "        next_word = max(self._model[prefix_key], key=self._model[prefix_key].get)\n",
    "        \n",
    "        return next_word\n",
    "\n",
    "    def predict_all(self, prefix:list[str], num:int)-> list[str]:\n",
    "        res = prefix\n",
    "        n = self._n - 1\n",
    "        for _ in range(num):\n",
    "            res.append(self.predict(res[-n:]))\n",
    "        \n",
    "        return res\n",
    "    \n",
    "    def test_model(self, corpus_list:list[str] , output_file_name:str)-> dict:\n",
    "        total_predictions = 0\n",
    "        correct_predictions = 0\n",
    "        \n",
    "        data = {\"Acc(%)\":[] , \"Ram Usage(%)\":[]}\n",
    "        \n",
    "        # Generate n-grams from test corpus and predict next words\n",
    "        for corpus in tqdm(corpus_list, desc=\"Testing\",unit=\"line\", dynamic_ncols=True, leave=True):\n",
    "            ngrams = self._generate_n_grams(corpus)\n",
    "            \n",
    "            for ngram in ngrams:\n",
    "                prefix = ngram[:-1]  # (n-1)-gram前缀\n",
    "                actual_next_word = ngram[-1]  # 真实的下一个词\n",
    "                \n",
    "                predicted_next_word = self.predict(prefix)\n",
    "                \n",
    "                if predicted_next_word == actual_next_word:\n",
    "                    correct_predictions += 1\n",
    "                \n",
    "                total_predictions += 1\n",
    "                \n",
    "            total_ram, used_ram, percentage_used = display_ram_usage()\n",
    "            accuracy = correct_predictions / total_predictions if total_predictions > 0 else 0\n",
    "            # 更新进度条的后缀\n",
    "            \n",
    "            data[\"Ram Usage(%)\"].append(percentage_used)\n",
    "            data[\"Acc(%)\"].append(accuracy * 100)\n",
    "                \n",
    "\n",
    "                \n",
    "        df = pd.DataFrame(data)\n",
    "\n",
    "        # Step 2: Plot the data using pandas DataFrame's plot method\n",
    "        ax = df.plot()\n",
    "\n",
    "        # Step 3: Customize the plot\n",
    "        ax.set_title(f'{self._n -1} gram memory usage and acc')\n",
    "        ax.set_xlabel('index')\n",
    "        ax.set_ylabel('%')\n",
    "        ax.grid(True)\n",
    "\n",
    "        # Step 4: Save the plot as an image file\n",
    "        plt.savefig(output_file_name, dpi=300, bbox_inches='tight')  # Save the figure\n",
    "        \n",
    "        # Calculate accuracy\n",
    "        \n",
    "        return data"
   ]
  },
  {
   "cell_type": "markdown",
   "metadata": {},
   "source": [
    "## Load data"
   ]
  },
  {
   "cell_type": "code",
   "execution_count": 70,
   "metadata": {},
   "outputs": [],
   "source": [
    "with open(\"./train.txt\" , mode=\"r\") as f_train, open(\"./test.txt\", mode=\"r\") as f_test:\n",
    "    train_data = [line.strip() for line in f_train.readlines()]\n",
    "    test_data =  [line.strip() for line in f_test.readlines()]\n",
    "    "
   ]
  },
  {
   "cell_type": "markdown",
   "metadata": {},
   "source": [
    "## Build model"
   ]
  },
  {
   "cell_type": "code",
   "execution_count": 71,
   "metadata": {},
   "outputs": [],
   "source": [
    "model_2 = N_grams(2)"
   ]
  },
  {
   "cell_type": "code",
   "execution_count": 72,
   "metadata": {},
   "outputs": [],
   "source": [
    "model_3 = N_grams(3)"
   ]
  },
  {
   "cell_type": "code",
   "execution_count": 73,
   "metadata": {},
   "outputs": [
    {
     "name": "stderr",
     "output_type": "stream",
     "text": [
      "Training: 100%|██████████| 2599668/2599668 [00:10<00:00, 239971.82line/s]\n"
     ]
    }
   ],
   "source": [
    "model_2.train(train_data)"
   ]
  },
  {
   "cell_type": "code",
   "execution_count": 74,
   "metadata": {},
   "outputs": [
    {
     "name": "stderr",
     "output_type": "stream",
     "text": [
      "Training:   0%|          | 0/2599668 [00:00<?, ?line/s]"
     ]
    },
    {
     "name": "stderr",
     "output_type": "stream",
     "text": [
      "Training: 100%|██████████| 2599668/2599668 [00:12<00:00, 208881.30line/s]\n"
     ]
    }
   ],
   "source": [
    "model_3.train(train_data)"
   ]
  },
  {
   "cell_type": "code",
   "execution_count": 9,
   "metadata": {},
   "outputs": [
    {
     "name": "stderr",
     "output_type": "stream",
     "text": [
      "Testing: 100%|██████████| 649918/649918 [01:41<00:00, 6386.98line/s]\n"
     ]
    },
    {
     "data": {
      "text/html": [
       "<pre style=\"white-space:pre;overflow-x:auto;line-height:normal;font-family:Menlo,'DejaVu Sans Mono',consolas,'Courier New',monospace\"><span style=\"color: #008080; text-decoration-color: #008080; font-weight: bold\">35.71754738420279</span>\n",
       "</pre>\n"
      ],
      "text/plain": [
       "\u001b[1;36m35.71754738420279\u001b[0m\n"
      ]
     },
     "metadata": {},
     "output_type": "display_data"
    },
    {
     "data": {
      "image/png": "[encoded data removed]",
      "text/plain": [
       "<Figure size 640x480 with 1 Axes>"
      ]
     },
     "metadata": {},
     "output_type": "display_data"
    }
   ],
   "source": [
    "res_2 = model_2.test_model(test_data, output_file_name=\"res2.png\")\n",
    "print(res_2[\"Acc(%)\"][-1])"
   ]
  },
  {
   "cell_type": "code",
   "execution_count": 10,
   "metadata": {},
   "outputs": [
    {
     "name": "stderr",
     "output_type": "stream",
     "text": [
      "Testing: 100%|██████████| 649918/649918 [00:38<00:00, 16666.52line/s]\n"
     ]
    },
    {
     "data": {
      "text/html": [
       "<pre style=\"white-space:pre;overflow-x:auto;line-height:normal;font-family:Menlo,'DejaVu Sans Mono',consolas,'Courier New',monospace\"><span style=\"color: #008080; text-decoration-color: #008080; font-weight: bold\">36.58432955673828</span>\n",
       "</pre>\n"
      ],
      "text/plain": [
       "\u001b[1;36m36.58432955673828\u001b[0m\n"
      ]
     },
     "metadata": {},
     "output_type": "display_data"
    },
    {
     "data": {
      "image/png": "[encoded data removed]",
      "text/plain": [
       "<Figure size 640x480 with 1 Axes>"
      ]
     },
     "metadata": {},
     "output_type": "display_data"
    }
   ],
   "source": [
    "res_3 = model_3.test_model(test_data, output_file_name=\"res3.png\")\n",
    "print(res_3[\"Acc(%)\"][-1])"
   ]
  },
  {
   "cell_type": "markdown",
   "metadata": {},
   "source": [
    "## incomplete "
   ]
  },
  {
   "cell_type": "code",
   "execution_count": 75,
   "metadata": {},
   "outputs": [],
   "source": [
    "with open(\"./incomplete.txt\", mode=\"r\") as f:\n",
    "    data = [line.strip() for line in f.readlines()]"
   ]
  },
  {
   "cell_type": "code",
   "execution_count": 83,
   "metadata": {},
   "outputs": [
    {
     "data": {
      "text/html": [
       "<pre style=\"white-space:pre;overflow-x:auto;line-height:normal;font-family:Menlo,'DejaVu Sans Mono',consolas,'Courier New',monospace\"><span style=\"font-weight: bold\">[</span>\n",
       "    <span style=\"color: #008000; text-decoration-color: #008000\">'cover with foil and bake for about 5 minutes or until the mixture into the pan and bake for about 5 minutes'</span>,\n",
       "    <span style=\"color: #008000; text-decoration-color: #008000\">'roll up and place in a large bowl and mix well and set aside to cool completely on wire rack to cool'</span>,\n",
       "    <span style=\"color: #008000; text-decoration-color: #008000\">'cook the pasta and cook for about 5 minutes or until the mixture into the pan and bake for about 5 minutes'</span>,\n",
       "    <span style=\"color: #008000; text-decoration-color: #008000\">'stir in the center of the pan and bake for about 5 minutes or until the mixture into the pan and bake'</span>,\n",
       "    <span style=\"color: #008000; text-decoration-color: #008000\">'spread out on a baking sheet and bake for about 5 minutes or until the mixture into the pan and bake for'</span>,\n",
       "    <span style=\"color: #008000; text-decoration-color: #008000\">'transfer the mixture into the pan and bake for about 5 minutes or until the mixture into the pan and bake </span>\n",
       "<span style=\"color: #008000; text-decoration-color: #008000\">for'</span>,\n",
       "    <span style=\"color: #008000; text-decoration-color: #008000\">'put the chicken and cook for about 5 minutes or until the mixture into the pan and bake for about 5 minutes'</span>,\n",
       "    <span style=\"color: #008000; text-decoration-color: #008000\">'push the dough into a large bowl and mix well and set aside to cool completely on wire rack to cool </span>\n",
       "<span style=\"color: #008000; text-decoration-color: #008000\">completely'</span>,\n",
       "    <span style=\"color: #008000; text-decoration-color: #008000\">'cut into squares and serve with a fork and serve with a fork and serve with a fork and serve with a'</span>,\n",
       "    <span style=\"color: #008000; text-decoration-color: #008000\">'toss the salad and toss to coat the bottom of the pan and bake for about 5 minutes or until the mixture'</span>\n",
       "<span style=\"font-weight: bold\">]</span>\n",
       "</pre>\n"
      ],
      "text/plain": [
       "\u001b[1m[\u001b[0m\n",
       "    \u001b[32m'cover with foil and bake for about 5 minutes or until the mixture into the pan and bake for about 5 minutes'\u001b[0m,\n",
       "    \u001b[32m'roll up and place in a large bowl and mix well and set aside to cool completely on wire rack to cool'\u001b[0m,\n",
       "    \u001b[32m'cook the pasta and cook for about 5 minutes or until the mixture into the pan and bake for about 5 minutes'\u001b[0m,\n",
       "    \u001b[32m'stir in the center of the pan and bake for about 5 minutes or until the mixture into the pan and bake'\u001b[0m,\n",
       "    \u001b[32m'spread out on a baking sheet and bake for about 5 minutes or until the mixture into the pan and bake for'\u001b[0m,\n",
       "    \u001b[32m'transfer the mixture into the pan and bake for about 5 minutes or until the mixture into the pan and bake \u001b[0m\n",
       "\u001b[32mfor'\u001b[0m,\n",
       "    \u001b[32m'put the chicken and cook for about 5 minutes or until the mixture into the pan and bake for about 5 minutes'\u001b[0m,\n",
       "    \u001b[32m'push the dough into a large bowl and mix well and set aside to cool completely on wire rack to cool \u001b[0m\n",
       "\u001b[32mcompletely'\u001b[0m,\n",
       "    \u001b[32m'cut into squares and serve with a fork and serve with a fork and serve with a fork and serve with a'\u001b[0m,\n",
       "    \u001b[32m'toss the salad and toss to coat the bottom of the pan and bake for about 5 minutes or until the mixture'\u001b[0m\n",
       "\u001b[1m]\u001b[0m\n"
      ]
     },
     "metadata": {},
     "output_type": "display_data"
    }
   ],
   "source": [
    "res = [model_2.predict_all(item.split(\" \"), num=20) for item in data]\n",
    "res = [' '.join(item ) for item in res]\n",
    "print(res)"
   ]
  },
  {
   "cell_type": "markdown",
   "metadata": {},
   "source": [
    "## Part 2 RNN"
   ]
  },
  {
   "cell_type": "code",
   "execution_count": 1,
   "metadata": {},
   "outputs": [],
   "source": [
    "from dataclasses import dataclass\n",
    "import torch\n",
    "import torch.nn as nn\n",
    "import torch.optim as optim\n",
    "import numpy as np\n",
    "import lightning as L\n",
    "import torch.nn.functional as F\n",
    "from torch.utils.data import DataLoader, Dataset\n",
    "from pytorch_lightning import loggers as pl_loggers\n",
    "from tqdm import tqdm\n",
    "import pandas as pd\n",
    "from pathlib import Path\n",
    "from lightning.pytorch.callbacks import ModelCheckpoint\n",
    "import re\n",
    "from collections import defaultdict, Counter"
   ]
  },
  {
   "cell_type": "code",
   "execution_count": 2,
   "metadata": {},
   "outputs": [],
   "source": [
    "@dataclass\n",
    "class Lib:\n",
    "    word2idx: dict[str,int]\n",
    "    idx2word: dict[int,str]\n",
    "    size : int\n",
    "    \n",
    "    def word_2_index(self, word:str)->int:\n",
    "        return self.word2idx.get(word, self.word2idx[\" \"])\n",
    "    \n",
    "    def index_2_word(self, index:int)->str:\n",
    "        return self.idx2word.get(index, \" \")\n",
    "    \n",
    "    @staticmethod\n",
    "    def natural_split(text:str)->list[str]:\n",
    "        pattern = r\"([a-zA-Z0-9]+|[^\\s\\w]|[\\s]+)\"\n",
    "        result = re.findall(pattern, text)\n",
    "        return result\n",
    "    \n",
    "    @classmethod\n",
    "    def build_from_text(cls, str_list:list[str]):\n",
    "        group = ' '.join(str_list)\n",
    "        vocab = set(Lib.natural_split(group))\n",
    "        \n",
    "        word2idx = {word: i for i,word in enumerate(vocab)}\n",
    "        idx2word = {idx : word for word, idx in word2idx.items()}\n",
    "        \n",
    "        return cls(word2idx, idx2word, len(word2idx))\n",
    "    \n",
    "    @classmethod\n",
    "    def build_from_file(cls, filename:str):\n",
    "        with open(filename, \"r\") as f:\n",
    "            data = [item.strip() for item in f.readlines()]\n",
    "        return cls.build_from_text(data)\n",
    "    \n",
    "    def sentence_to_idx_tensor(self, sentence:str):\n",
    "        return torch.tensor([self.word_2_index(word) for word in sentence.split(\" \")], dtype=torch.long)\n",
    "    \n",
    "    \n",
    "    def word_to_tensor(self, word:str)->torch.Tensor:\n",
    "        tensor = torch.zeros(self.size)\n",
    "        index = self.word_2_index(word)\n",
    "        \n",
    "        tensor[index] = 1\n",
    "        return tensor  \n",
    "    \n",
    "    def tensor_to_sentence(self, tensor:torch.Tensor) ->str:\n",
    "        return ' '.join([self.index_2_word(int(item)) for item in tensor])\n",
    "    \n",
    "    def __len__(self) -> int:\n",
    "        return self.size"
   ]
  },
  {
   "cell_type": "markdown",
   "metadata": {},
   "source": [
    "## Build a dataset"
   ]
  },
  {
   "cell_type": "code",
   "execution_count": 10,
   "metadata": {},
   "outputs": [],
   "source": [
    "class TextDataset(Dataset):\n",
    "    def __init__(self, sentences:str, n:int, text_lib:Lib):\n",
    "        self.n = n \n",
    "        self.text_lib = text_lib\n",
    "        \n",
    "        \n",
    "        data_dict = defaultdict(list)\n",
    "        for sentence in tqdm(sentences, desc=\"process\", unit=\"line\", dynamic_ncols=True, leave=True):\n",
    "            line = sentence.split(\" \")\n",
    "            \n",
    "            for i in range(len(line) - n):\n",
    "                input_str = line[i:i+n]\n",
    "                target_str = line[i+n]\n",
    "                \n",
    "                k , v = ' '.join(input_str), target_str\n",
    "                \n",
    "                data_dict[k].append(v)\n",
    "                \n",
    "        for k in tqdm(data_dict.keys(), desc=\"counting\", unit=\"pair\", dynamic_ncols=True, leave=True):\n",
    "            large_word = Counter(data_dict[k]).most_common(1)\n",
    "            data_dict[k] = large_word[0][0]\n",
    "            \n",
    "                \n",
    "        self.data = list(data_dict.items())\n",
    "            \n",
    "        return \n",
    "    \n",
    "    def __len__(self):\n",
    "        return len(self.data)\n",
    "    \n",
    "    def __getitem__(self, index:int)-> tuple[torch.Tensor, torch.Tensor]:\n",
    "        input_str, target_str = self.data[index]\n",
    "        input_tensor  = self.text_lib.sentence_to_idx_tensor(input_str)\n",
    "        target_tensor = self.text_lib.word_to_tensor(target_str)\n",
    "        return input_tensor, target_tensor\n",
    "    \n",
    "    @classmethod\n",
    "    def build_from_file(cls, filename:str,n:int, lib: Lib = None):\n",
    "        with open(file=filename, mode=\"r\") as f:\n",
    "            data = [line.strip() for line in f.readlines()]\n",
    "            \n",
    "        if lib is None:\n",
    "            lib = Lib.build_from_text(data)\n",
    "            \n",
    "        return cls(data, n, lib) "
   ]
  },
  {
   "cell_type": "markdown",
   "metadata": {},
   "source": [
    "## RNN Model\n"
   ]
  },
  {
   "cell_type": "code",
   "execution_count": 4,
   "metadata": {},
   "outputs": [],
   "source": [
    "class RnnModel(L.LightningModule):\n",
    "    def __init__(self,vocab_size:int, embedding_dim:int, hidden_size:int, output_size:int, num_layers=1):\n",
    "        super().__init__()\n",
    "        self.embedding = nn.Embedding(vocab_size, embedding_dim)\n",
    "        self.rnn = nn.RNN(embedding_dim, hidden_size, num_layers, batch_first=True)\n",
    "        self.fc = nn.Linear(hidden_size, output_size)\n",
    "        return \n",
    "    \n",
    "    \n",
    "    def forward(self, x):\n",
    "        x = self.embedding(x)\n",
    "        out, _ = self.rnn(x)\n",
    "        out = self.fc(out[:, -1, :]) \n",
    "        out = F.softmax(out, dim=1)\n",
    "        return out\n",
    "    \n",
    "    def configure_optimizers(self):\n",
    "        optimizer = optim.Adam(self.parameters(), lr=0.001)\n",
    "        return optimizer\n",
    "    \n",
    "    def training_step(self,train_batch, batch_idx):\n",
    "        \n",
    "        input_tensor, target_tensor = train_batch\n",
    "        \n",
    "        output = self.forward(input_tensor)\n",
    "        loss = F.cross_entropy(input=output,target=target_tensor)\n",
    "        self.log('train_loss', loss, on_step=True, on_epoch=True, prog_bar=True, logger=True)\n",
    "        \n",
    "        predicted_tensor, target_tensor_idx = torch.argmax(output, dim=1), torch.argmax(target_tensor, dim=1)\n",
    "        accuracy = (predicted_tensor == target_tensor_idx).float().mean()\n",
    "        \n",
    "        self.log('tran_acc', accuracy, on_step=True, on_epoch=True, prog_bar=True, logger=True)\n",
    "        return loss\n",
    "    \n",
    "    def validation_step(self, val_batch, batch_idx):\n",
    "        \n",
    "        input_tensor, target_tensor = val_batch\n",
    "        \n",
    "        output = self.forward(input_tensor)\n",
    "        loss = F.cross_entropy(input=output,target=target_tensor)\n",
    "        self.log(\"test_loss\",  loss, on_step=True, on_epoch=True, prog_bar=True, logger=True)\n",
    "        \n",
    "        predicted_tensor, target_tensor_idx = torch.argmax(output, dim=1), torch.argmax(target_tensor, dim=1)\n",
    "        accuracy = (predicted_tensor == target_tensor_idx).float().mean()\n",
    "        \n",
    "        self.log('test_acc', accuracy, on_step=True, on_epoch=True, prog_bar=True, logger=True)\n",
    "        \n",
    "        return loss"
   ]
  },
  {
   "cell_type": "code",
   "execution_count": 25,
   "metadata": {},
   "outputs": [],
   "source": [
    "epoch = 10\n",
    "batch_size = 32\n",
    "number_of_layer = 2\n",
    "hidden=128\n",
    "embedding_dim = 128"
   ]
  },
  {
   "cell_type": "code",
   "execution_count": 5,
   "metadata": {},
   "outputs": [],
   "source": [
    "lib = Lib.build_from_file(\"./train.txt\")"
   ]
  },
  {
   "cell_type": "code",
   "execution_count": 27,
   "metadata": {},
   "outputs": [],
   "source": [
    "model = RnnModel(\n",
    "    vocab_size=lib.size,\n",
    "    embedding_dim=embedding_dim,\n",
    "    hidden_size=hidden,\n",
    "    output_size=lib.size,\n",
    "    num_layers=number_of_layer,\n",
    ")"
   ]
  },
  {
   "cell_type": "code",
   "execution_count": 28,
   "metadata": {},
   "outputs": [
    {
     "name": "stdout",
     "output_type": "stream",
     "text": [
      "RnnModel(\n",
      "  (embedding): Embedding(38409, 128)\n",
      "  (rnn): RNN(128, 128, num_layers=2, batch_first=True)\n",
      "  (fc): Linear(in_features=128, out_features=38409, bias=True)\n",
      ")\n"
     ]
    }
   ],
   "source": [
    "print(model)"
   ]
  },
  {
   "cell_type": "code",
   "execution_count": 9,
   "metadata": {},
   "outputs": [],
   "source": [
    "tb_logger = pl_loggers.TensorBoardLogger(\"logs/\")"
   ]
  },
  {
   "cell_type": "code",
   "execution_count": 10,
   "metadata": {},
   "outputs": [],
   "source": [
    "checkpoint_callback = ModelCheckpoint(\n",
    "    monitor='train_loss',\n",
    "    dirpath='checkpoints',\n",
    "    filename='model-{epoch:02d}-{train_loss:.2f}',\n",
    "    save_top_k=3,\n",
    "    mode='min'\n",
    ")"
   ]
  },
  {
   "cell_type": "code",
   "execution_count": 11,
   "metadata": {},
   "outputs": [
    {
     "name": "stderr",
     "output_type": "stream",
     "text": [
      "GPU available: True (cuda), used: True\n",
      "TPU available: False, using: 0 TPU cores\n",
      "HPU available: False, using: 0 HPUs\n"
     ]
    }
   ],
   "source": [
    "trainer = L.Trainer(\n",
    "    callbacks=[checkpoint_callback],\n",
    "    accelerator=\"gpu\",\n",
    "    logger=tb_logger, \n",
    "    default_root_dir=\"out/\", \n",
    "    max_epochs=epoch,\n",
    "    # progress_bar_refresh_rate=1\n",
    ")"
   ]
  },
  {
   "cell_type": "code",
   "execution_count": 11,
   "metadata": {},
   "outputs": [
    {
     "name": "stderr",
     "output_type": "stream",
     "text": [
      "process: 100%|██████████| 2599668/2599668 [00:06<00:00, 389977.77line/s]\n",
      "counting: 100%|██████████| 622841/622841 [00:03<00:00, 183215.20pair/s]\n"
     ]
    }
   ],
   "source": [
    "train_dataset = TextDataset.build_from_file(\"./train.txt\",n=2,lib=lib)"
   ]
  },
  {
   "cell_type": "code",
   "execution_count": 12,
   "metadata": {},
   "outputs": [
    {
     "data": {
      "text/plain": [
       "622841"
      ]
     },
     "execution_count": 12,
     "metadata": {},
     "output_type": "execute_result"
    }
   ],
   "source": [
    "len(train_dataset)"
   ]
  },
  {
   "cell_type": "code",
   "execution_count": 13,
   "metadata": {},
   "outputs": [
    {
     "name": "stderr",
     "output_type": "stream",
     "text": [
      "process: 100%|██████████| 649918/649918 [00:01<00:00, 419224.05line/s]\n",
      "counting: 100%|██████████| 270476/270476 [00:01<00:00, 265171.31pair/s]\n"
     ]
    }
   ],
   "source": [
    "test_dataset = TextDataset.build_from_file(\"./test.txt\",n=2,lib=lib)"
   ]
  },
  {
   "cell_type": "code",
   "execution_count": 14,
   "metadata": {},
   "outputs": [],
   "source": [
    "train_dataloader = DataLoader(train_dataset, batch_size=32, shuffle=True)"
   ]
  },
  {
   "cell_type": "code",
   "execution_count": 32,
   "metadata": {},
   "outputs": [],
   "source": [
    "test_dataloader = DataLoader(test_dataset, batch_size=32, shuffle=True)"
   ]
  },
  {
   "cell_type": "code",
   "execution_count": null,
   "metadata": {},
   "outputs": [
    {
     "name": "stderr",
     "output_type": "stream",
     "text": [
      "/home/keithlin/Code/NYCU_LLM_2024/HW1/.venv/lib/python3.11/site-packages/lightning/pytorch/trainer/connectors/checkpoint_connector.py:186: .fit(ckpt_path=\"last\") is set, but there is no last checkpoint available. No checkpoint will be loaded. HINT: Set `ModelCheckpoint(..., save_last=True)`.\n",
      "You are using a CUDA device ('NVIDIA GeForce RTX 3070') that has Tensor Cores. To properly utilize them, you should set `torch.set_float32_matmul_precision('medium' | 'high')` which will trade-off precision for performance. For more details, read https://pytorch.org/docs/stable/generated/torch.set_float32_matmul_precision.html#torch.set_float32_matmul_precision\n",
      "LOCAL_RANK: 0 - CUDA_VISIBLE_DEVICES: [0]\n",
      "\n",
      "  | Name      | Type      | Params | Mode \n",
      "------------------------------------------------\n",
      "0 | embedding | Embedding | 8.1 M  | train\n",
      "1 | rnn       | RNN       | 66.0 K | train\n",
      "2 | fc        | Linear    | 8.1 M  | train\n",
      "------------------------------------------------\n",
      "16.3 M    Trainable params\n",
      "0         Non-trainable params\n",
      "16.3 M    Total params\n",
      "65.099    Total estimated model params size (MB)\n",
      "3         Modules in train mode\n",
      "0         Modules in eval mode\n"
     ]
    },
    {
     "name": "stdout",
     "output_type": "stream",
     "text": [
      "Sanity Checking: |          | 0/? [00:00<?, ?it/s]"
     ]
    },
    {
     "name": "stderr",
     "output_type": "stream",
     "text": [
      "/home/keithlin/Code/NYCU_LLM_2024/HW1/.venv/lib/python3.11/site-packages/lightning/pytorch/trainer/connectors/data_connector.py:475: Your `val_dataloader`'s sampler has shuffling enabled, it is strongly recommended that you turn shuffling off for val/test dataloaders.\n",
      "/home/keithlin/Code/NYCU_LLM_2024/HW1/.venv/lib/python3.11/site-packages/lightning/pytorch/trainer/connectors/data_connector.py:424: The 'val_dataloader' does not have many workers which may be a bottleneck. Consider increasing the value of the `num_workers` argument` to `num_workers=11` in the `DataLoader` to improve performance.\n"
     ]
    },
    {
     "name": "stdout",
     "output_type": "stream",
     "text": [
      "                                                                           "
     ]
    },
    {
     "name": "stderr",
     "output_type": "stream",
     "text": [
      "/home/keithlin/Code/NYCU_LLM_2024/HW1/.venv/lib/python3.11/site-packages/lightning/pytorch/trainer/connectors/data_connector.py:424: The 'train_dataloader' does not have many workers which may be a bottleneck. Consider increasing the value of the `num_workers` argument` to `num_workers=11` in the `DataLoader` to improve performance.\n"
     ]
    },
    {
     "name": "stdout",
     "output_type": "stream",
     "text": [
      "Epoch 0: 100%|██████████| 389838/389838 [1:06:06<00:00, 98.29it/s, v_num=1, train_loss_step=10.90, tran_acc_step=0.160] "
     ]
    }
   ],
   "source": [
    "trainer.fit(model, train_dataloader,test_dataloader,ckpt_path=\"last\")"
   ]
  },
  {
   "cell_type": "code",
   "execution_count": 7,
   "metadata": {},
   "outputs": [
    {
     "data": {
      "text/html": [
       "<div>\n",
       "<style scoped>\n",
       "    .dataframe tbody tr th:only-of-type {\n",
       "        vertical-align: middle;\n",
       "    }\n",
       "\n",
       "    .dataframe tbody tr th {\n",
       "        vertical-align: top;\n",
       "    }\n",
       "\n",
       "    .dataframe thead th {\n",
       "        text-align: right;\n",
       "    }\n",
       "</style>\n",
       "<table border=\"1\" class=\"dataframe\">\n",
       "  <thead>\n",
       "    <tr style=\"text-align: right;\">\n",
       "      <th></th>\n",
       "      <th>Wall time</th>\n",
       "      <th>Step</th>\n",
       "      <th>Training Loss</th>\n",
       "    </tr>\n",
       "  </thead>\n",
       "  <tbody>\n",
       "    <tr>\n",
       "      <th>0</th>\n",
       "      <td>1.729718e+09</td>\n",
       "      <td>389837</td>\n",
       "      <td>10.356216</td>\n",
       "    </tr>\n",
       "    <tr>\n",
       "      <th>1</th>\n",
       "      <td>1.729721e+09</td>\n",
       "      <td>779675</td>\n",
       "      <td>10.335371</td>\n",
       "    </tr>\n",
       "    <tr>\n",
       "      <th>2</th>\n",
       "      <td>1.729725e+09</td>\n",
       "      <td>1169513</td>\n",
       "      <td>10.331342</td>\n",
       "    </tr>\n",
       "    <tr>\n",
       "      <th>3</th>\n",
       "      <td>1.729728e+09</td>\n",
       "      <td>1559351</td>\n",
       "      <td>10.329924</td>\n",
       "    </tr>\n",
       "    <tr>\n",
       "      <th>4</th>\n",
       "      <td>1.729731e+09</td>\n",
       "      <td>1949189</td>\n",
       "      <td>10.328925</td>\n",
       "    </tr>\n",
       "    <tr>\n",
       "      <th>5</th>\n",
       "      <td>1.729734e+09</td>\n",
       "      <td>2339027</td>\n",
       "      <td>10.328092</td>\n",
       "    </tr>\n",
       "    <tr>\n",
       "      <th>6</th>\n",
       "      <td>1.729737e+09</td>\n",
       "      <td>2728865</td>\n",
       "      <td>10.327318</td>\n",
       "    </tr>\n",
       "    <tr>\n",
       "      <th>7</th>\n",
       "      <td>1.729740e+09</td>\n",
       "      <td>3118703</td>\n",
       "      <td>10.327253</td>\n",
       "    </tr>\n",
       "    <tr>\n",
       "      <th>8</th>\n",
       "      <td>1.729743e+09</td>\n",
       "      <td>3508541</td>\n",
       "      <td>10.327093</td>\n",
       "    </tr>\n",
       "    <tr>\n",
       "      <th>9</th>\n",
       "      <td>1.729746e+09</td>\n",
       "      <td>3898379</td>\n",
       "      <td>10.327095</td>\n",
       "    </tr>\n",
       "  </tbody>\n",
       "</table>\n",
       "</div>"
      ],
      "text/plain": [
       "      Wall time     Step  Training Loss\n",
       "0  1.729718e+09   389837      10.356216\n",
       "1  1.729721e+09   779675      10.335371\n",
       "2  1.729725e+09  1169513      10.331342\n",
       "3  1.729728e+09  1559351      10.329924\n",
       "4  1.729731e+09  1949189      10.328925\n",
       "5  1.729734e+09  2339027      10.328092\n",
       "6  1.729737e+09  2728865      10.327318\n",
       "7  1.729740e+09  3118703      10.327253\n",
       "8  1.729743e+09  3508541      10.327093\n",
       "9  1.729746e+09  3898379      10.327095"
      ]
     },
     "execution_count": 7,
     "metadata": {},
     "output_type": "execute_result"
    }
   ],
   "source": [
    "df_loss = pd.read_csv(\"./logs_csv/lightning_logs_version_4_loss.csv\")\n",
    "df_loss = df_loss.rename(columns={\"Value\":\"Training Loss\"})\n",
    "df_loss"
   ]
  },
  {
   "cell_type": "code",
   "execution_count": 8,
   "metadata": {},
   "outputs": [
    {
     "data": {
      "text/plain": [
       "<Axes: title={'center': 'Training loss'}, xlabel='epoch', ylabel='loss'>"
      ]
     },
     "execution_count": 8,
     "metadata": {},
     "output_type": "execute_result"
    },
    {
     "data": {
      "image/png": "[encoded data removed]",
      "text/plain": [
       "<Figure size 640x480 with 1 Axes>"
      ]
     },
     "metadata": {},
     "output_type": "display_data"
    }
   ],
   "source": [
    "df_loss.plot(y=\"Training Loss\",title=\"Training loss\", ylabel=\"loss\", xlabel=\"epoch\")"
   ]
  },
  {
   "cell_type": "code",
   "execution_count": 9,
   "metadata": {},
   "outputs": [
    {
     "data": {
      "text/html": [
       "<div>\n",
       "<style scoped>\n",
       "    .dataframe tbody tr th:only-of-type {\n",
       "        vertical-align: middle;\n",
       "    }\n",
       "\n",
       "    .dataframe tbody tr th {\n",
       "        vertical-align: top;\n",
       "    }\n",
       "\n",
       "    .dataframe thead th {\n",
       "        text-align: right;\n",
       "    }\n",
       "</style>\n",
       "<table border=\"1\" class=\"dataframe\">\n",
       "  <thead>\n",
       "    <tr style=\"text-align: right;\">\n",
       "      <th></th>\n",
       "      <th>Wall time</th>\n",
       "      <th>Step</th>\n",
       "      <th>Training Acc</th>\n",
       "    </tr>\n",
       "  </thead>\n",
       "  <tbody>\n",
       "    <tr>\n",
       "      <th>0</th>\n",
       "      <td>1.729718e+09</td>\n",
       "      <td>389837</td>\n",
       "      <td>0.189832</td>\n",
       "    </tr>\n",
       "    <tr>\n",
       "      <th>1</th>\n",
       "      <td>1.729721e+09</td>\n",
       "      <td>779675</td>\n",
       "      <td>0.209680</td>\n",
       "    </tr>\n",
       "    <tr>\n",
       "      <th>2</th>\n",
       "      <td>1.729725e+09</td>\n",
       "      <td>1169513</td>\n",
       "      <td>0.213165</td>\n",
       "    </tr>\n",
       "    <tr>\n",
       "      <th>3</th>\n",
       "      <td>1.729728e+09</td>\n",
       "      <td>1559351</td>\n",
       "      <td>0.214340</td>\n",
       "    </tr>\n",
       "    <tr>\n",
       "      <th>4</th>\n",
       "      <td>1.729731e+09</td>\n",
       "      <td>1949189</td>\n",
       "      <td>0.215163</td>\n",
       "    </tr>\n",
       "    <tr>\n",
       "      <th>5</th>\n",
       "      <td>1.729734e+09</td>\n",
       "      <td>2339027</td>\n",
       "      <td>0.215910</td>\n",
       "    </tr>\n",
       "    <tr>\n",
       "      <th>6</th>\n",
       "      <td>1.729737e+09</td>\n",
       "      <td>2728865</td>\n",
       "      <td>0.216443</td>\n",
       "    </tr>\n",
       "    <tr>\n",
       "      <th>7</th>\n",
       "      <td>1.729740e+09</td>\n",
       "      <td>3118703</td>\n",
       "      <td>0.216529</td>\n",
       "    </tr>\n",
       "    <tr>\n",
       "      <th>8</th>\n",
       "      <td>1.729743e+09</td>\n",
       "      <td>3508541</td>\n",
       "      <td>0.216599</td>\n",
       "    </tr>\n",
       "    <tr>\n",
       "      <th>9</th>\n",
       "      <td>1.729746e+09</td>\n",
       "      <td>3898379</td>\n",
       "      <td>0.216581</td>\n",
       "    </tr>\n",
       "  </tbody>\n",
       "</table>\n",
       "</div>"
      ],
      "text/plain": [
       "      Wall time     Step  Training Acc\n",
       "0  1.729718e+09   389837      0.189832\n",
       "1  1.729721e+09   779675      0.209680\n",
       "2  1.729725e+09  1169513      0.213165\n",
       "3  1.729728e+09  1559351      0.214340\n",
       "4  1.729731e+09  1949189      0.215163\n",
       "5  1.729734e+09  2339027      0.215910\n",
       "6  1.729737e+09  2728865      0.216443\n",
       "7  1.729740e+09  3118703      0.216529\n",
       "8  1.729743e+09  3508541      0.216599\n",
       "9  1.729746e+09  3898379      0.216581"
      ]
     },
     "execution_count": 9,
     "metadata": {},
     "output_type": "execute_result"
    }
   ],
   "source": [
    "df_acc = pd.read_csv(\"./logs_csv/lightning_logs_version_4_acc.csv\")\n",
    "df_acc = df_acc.rename(columns={\"Value\":\"Training Acc\"})\n",
    "df_acc"
   ]
  },
  {
   "cell_type": "code",
   "execution_count": 10,
   "metadata": {},
   "outputs": [
    {
     "data": {
      "text/plain": [
       "<Axes: title={'center': 'Training acc'}, xlabel='epoch', ylabel='acc'>"
      ]
     },
     "execution_count": 10,
     "metadata": {},
     "output_type": "execute_result"
    },
    {
     "data": {
      "image/png": "[encoded data removed]",
      "text/plain": [
       "<Figure size 640x480 with 1 Axes>"
      ]
     },
     "metadata": {},
     "output_type": "display_data"
    }
   ],
   "source": [
    "df_acc.plot(y=\"Training Acc\",title=\"Training acc\", ylabel=\"acc\", xlabel=\"epoch\")"
   ]
  },
  {
   "cell_type": "markdown",
   "metadata": {},
   "source": [
    "## Check Rnn model in test acc"
   ]
  },
  {
   "cell_type": "code",
   "execution_count": 11,
   "metadata": {},
   "outputs": [
    {
     "name": "stdout",
     "output_type": "stream",
     "text": [
      "RnnModel(\n",
      "  (embedding): Embedding(38409, 128)\n",
      "  (rnn): RNN(128, 128, num_layers=2, batch_first=True)\n",
      "  (fc): Linear(in_features=128, out_features=38409, bias=True)\n",
      ")\n"
     ]
    }
   ],
   "source": [
    "model_load = RnnModel.load_from_checkpoint(\n",
    "    \"./checkpoints/model-epoch=09-train_loss=10.33.ckpt\",\n",
    "    vocab_size=lib.size,\n",
    "    embedding_dim=embedding_dim,\n",
    "    hidden_size=hidden,\n",
    "    output_size=lib.size,\n",
    "    num_layers=number_of_layer,\n",
    ")\n",
    "print(model_load)"
   ]
  },
  {
   "cell_type": "code",
   "execution_count": 12,
   "metadata": {},
   "outputs": [],
   "source": [
    "def test_model_acc(model: RnnModel, dataloader: DataLoader) -> float:\n",
    "    model.eval()  \n",
    "    correct = 0\n",
    "    total = 0\n",
    "\n",
    "    with torch.no_grad():  # 禁用梯度计算\n",
    "        for input_tensor, target_tensor in tqdm(dataloader, desc=\"Testing\", unit=\"batch\"):\n",
    "            input_tensor, target_tensor = input_tensor.to(model.device), target_tensor.to(model.device)\n",
    "            \n",
    "            outputs = model(input_tensor)\n",
    "            \n",
    "            predicted = torch.argmax(outputs, dim=1)\n",
    "            target = torch.argmax(target_tensor, dim=1)\n",
    "            \n",
    "            total += target.size(0)\n",
    "            \n",
    "            correct += (predicted == target).sum().item()\n",
    "    \n",
    "    accuracy = correct / total\n",
    "    return accuracy"
   ]
  },
  {
   "cell_type": "code",
   "execution_count": 15,
   "metadata": {},
   "outputs": [],
   "source": [
    "test_dataloader_plus = DataLoader(test_dataset, batch_size=5000)"
   ]
  },
  {
   "cell_type": "code",
   "execution_count": 16,
   "metadata": {},
   "outputs": [
    {
     "name": "stderr",
     "output_type": "stream",
     "text": [
      "Testing: 100%|██████████| 622/622 [05:07<00:00,  2.02batch/s]"
     ]
    },
    {
     "name": "stdout",
     "output_type": "stream",
     "text": [
      "6.114194488665088e-06\n"
     ]
    },
    {
     "name": "stderr",
     "output_type": "stream",
     "text": [
      "\n"
     ]
    }
   ],
   "source": [
    "test_acc = test_model_acc(model=model_load, dataloader=test_dataloader_plus)\n",
    "print(test_acc)"
   ]
  },
  {
   "cell_type": "code",
   "execution_count": 17,
   "metadata": {},
   "outputs": [
    {
     "name": "stdout",
     "output_type": "stream",
     "text": [
      "['cover with', 'roll up', 'cook the', 'stir in', 'spread out', 'transfer the', 'put the', 'push the', 'cut into', 'toss the']\n"
     ]
    }
   ],
   "source": [
    "with open(\"./incomplete.txt\", mode=\"r\") as f:\n",
    "    data = [line.strip() for line in f.readlines()]\n",
    "print(data)"
   ]
  },
  {
   "cell_type": "code",
   "execution_count": 18,
   "metadata": {},
   "outputs": [],
   "source": [
    "def complete_string(prefix_list:list[str], lib:Lib, model:RnnModel, n:int, num:int)->str:\n",
    "    tensor_list = torch.stack([\n",
    "        torch.cat([\n",
    "            lib.sentence_to_idx_tensor(item)\n",
    "            for item in prefix.split(\" \")\n",
    "        ])\n",
    "        for prefix in prefix_list\n",
    "    ]).to(model.device) \n",
    "    \n",
    "    print(tensor_list)\n",
    "    \n",
    "    for _ in range(num):\n",
    "        # get last 2 column\n",
    "        input_tensor = tensor_list[:, -2:]\n",
    "        output_tensor = model(input_tensor)\n",
    "        output_idx = torch.argmax(output_tensor, dim=1)\n",
    "        \n",
    "        output_idx = output_idx.unsqueeze(-1)\n",
    "        tensor_list = torch.cat((tensor_list, output_idx), dim=1)\n",
    "        \n",
    "    output = [[lib.index_2_word(int(item)) for item in row] for row in tensor_list]\n",
    "    output = [' '.join(line) for line in output]\n",
    "    return output"
   ]
  },
  {
   "cell_type": "code",
   "execution_count": 19,
   "metadata": {},
   "outputs": [
    {
     "name": "stdout",
     "output_type": "stream",
     "text": [
      "tensor([[15159, 28475],\n",
      "        [28129, 14733],\n",
      "        [20539, 27604],\n",
      "        [14063, 31367],\n",
      "        [11437, 15880],\n",
      "        [15910, 27604],\n",
      "        [23313, 27604],\n",
      "        [ 7964, 27604],\n",
      "        [26674, 32084],\n",
      "        [33784, 27604]], device='cuda:0')\n"
     ]
    }
   ],
   "source": [
    "output = complete_string(data, lib=lib, model=model_load, n=2, num=20)"
   ]
  },
  {
   "cell_type": "code",
   "execution_count": 20,
   "metadata": {},
   "outputs": [
    {
     "data": {
      "text/plain": [
       "['cover with featuring scrapping uo featuring scrapping uo featuring scrapping uo featuring scrapping uo featuring scrapping uo featuring scrapping uo featuring scrapping',\n",
       " 'roll up uo featuring scrapping uo featuring scrapping uo featuring scrapping uo featuring scrapping uo featuring scrapping uo featuring scrapping uo featuring',\n",
       " 'cook the uo featuring scrapping uo featuring scrapping uo featuring scrapping uo featuring scrapping uo featuring scrapping uo featuring scrapping uo featuring',\n",
       " 'stir in uo featuring scrapping uo featuring scrapping uo featuring scrapping uo featuring scrapping uo featuring scrapping uo featuring scrapping uo featuring',\n",
       " 'spread out featuring scrapping uo featuring scrapping uo featuring scrapping uo featuring scrapping uo featuring scrapping uo featuring scrapping uo featuring scrapping',\n",
       " 'transfer the uo featuring scrapping uo featuring scrapping uo featuring scrapping uo featuring scrapping uo featuring scrapping uo featuring scrapping uo featuring',\n",
       " 'put the tenderloin featuring scrapping uo featuring scrapping uo featuring scrapping uo featuring scrapping uo featuring scrapping uo featuring scrapping uo featuring',\n",
       " 'push the uo featuring scrapping uo featuring scrapping uo featuring scrapping uo featuring scrapping uo featuring scrapping uo featuring scrapping uo featuring',\n",
       " 'cut into uo featuring scrapping uo featuring scrapping uo featuring scrapping uo featuring scrapping uo featuring scrapping uo featuring scrapping uo featuring',\n",
       " 'toss the tenderloin featuring scrapping uo featuring scrapping uo featuring scrapping uo featuring scrapping uo featuring scrapping uo featuring scrapping uo featuring']"
      ]
     },
     "execution_count": 20,
     "metadata": {},
     "output_type": "execute_result"
    }
   ],
   "source": [
    "output"
   ]
  },
  {
   "cell_type": "code",
   "execution_count": null,
   "metadata": {},
   "outputs": [],
   "source": []
  }
 ],
 "metadata": {
  "kernelspec": {
   "display_name": ".venv",
   "language": "python",
   "name": "python3"
  },
  "language_info": {
   "codemirror_mode": {
    "name": "ipython",
    "version": 3
   },
   "file_extension": ".py",
   "mimetype": "text/x-python",
   "name": "python",
   "nbconvert_exporter": "python",
   "pygments_lexer": "ipython3",
   "version": "3.11.9"
  }
 },
 "nbformat": 4,
 "nbformat_minor": 2
}
