{
 "cells": [
  {
   "cell_type": "markdown",
   "metadata": {},
   "source": [
    "# HW1 1 313511068 練鈞揚"
   ]
  },
  {
   "cell_type": "markdown",
   "metadata": {},
   "source": [
    "## Part 1 N gram"
   ]
  },
  {
   "cell_type": "code",
   "execution_count": 67,
   "metadata": {},
   "outputs": [],
   "source": [
    "from collections import defaultdict\n",
    "from tqdm import tqdm\n",
    "from rich import print\n",
    "import psutil\n",
    "import pandas as pd\n",
    "import matplotlib.pyplot as plt"
   ]
  },
  {
   "cell_type": "code",
   "execution_count": 68,
   "metadata": {},
   "outputs": [],
   "source": [
    "def display_ram_usage():\n",
    "    \"\"\"获取并显示当前的内存使用情况。\"\"\"\n",
    "    ram = psutil.virtual_memory()\n",
    "    total_ram = ram.total / (1024 ** 3)  # 总内存 (GB)\n",
    "    used_ram = ram.used / (1024 ** 3)    # 已用内存 (GB)\n",
    "    percentage_used = ram.percent  # 已用内存百分比\n",
    "    return total_ram, used_ram, percentage_used"
   ]
  },
  {
   "cell_type": "code",
   "execution_count": 69,
   "metadata": {},
   "outputs": [],
   "source": [
    "\n",
    "class N_grams:\n",
    "    def __init__(self,n:int):\n",
    "        self._n = n + 1\n",
    "        self._model = defaultdict(lambda: defaultdict(int))\n",
    "        return \n",
    "    \n",
    "    def _generate_n_grams(self, text:str)->list[str]:\n",
    "        tokens = list(text.split(\" \"))\n",
    "        n_grams = [tokens[i:i+self._n] for i in range(len(tokens) - self._n + 1)]\n",
    "        return n_grams \n",
    "    \n",
    "    def train(self, corpus_list:list[str]):\n",
    "        for corpus in tqdm(corpus_list,desc=\"Training\",unit=\"line\", dynamic_ncols=True, leave=True):\n",
    "            ngrams = self._generate_n_grams(corpus)\n",
    "            \n",
    "            for ngram in ngrams:    \n",
    "                prefix = tuple(ngram[:-1])\n",
    "                next_word = ngram[-1]\n",
    "                \n",
    "                self._model[prefix][next_word] += 1\n",
    "        return \n",
    "    \n",
    "    def predict(self, prefix:list[str]):\n",
    "        if tuple(prefix) not in self._model:\n",
    "            return None\n",
    "        prefix_key = tuple(prefix)\n",
    "        next_word = max(self._model[prefix_key], key=self._model[prefix_key].get)\n",
    "        \n",
    "        return next_word\n",
    "\n",
    "    def predict_all(self, prefix:list[str], num:int)-> list[str]:\n",
    "        res = prefix\n",
    "        n = self._n - 1\n",
    "        for _ in range(num):\n",
    "            res.append(self.predict(res[-n:]))\n",
    "        \n",
    "        return res\n",
    "    \n",
    "    def test_model(self, corpus_list:list[str] , output_file_name:str)-> dict:\n",
    "        total_predictions = 0\n",
    "        correct_predictions = 0\n",
    "        \n",
    "        data = {\"Acc(%)\":[] , \"Ram Usage(%)\":[]}\n",
    "        \n",
    "        # Generate n-grams from test corpus and predict next words\n",
    "        for corpus in tqdm(corpus_list, desc=\"Testing\",unit=\"line\", dynamic_ncols=True, leave=True):\n",
    "            ngrams = self._generate_n_grams(corpus)\n",
    "            \n",
    "            for ngram in ngrams:\n",
    "                prefix = ngram[:-1]  # (n-1)-gram前缀\n",
    "                actual_next_word = ngram[-1]  # 真实的下一个词\n",
    "                \n",
    "                predicted_next_word = self.predict(prefix)\n",
    "                \n",
    "                if predicted_next_word == actual_next_word:\n",
    "                    correct_predictions += 1\n",
    "                \n",
    "                total_predictions += 1\n",
    "                \n",
    "            total_ram, used_ram, percentage_used = display_ram_usage()\n",
    "            accuracy = correct_predictions / total_predictions if total_predictions > 0 else 0\n",
    "            # 更新进度条的后缀\n",
    "            \n",
    "            data[\"Ram Usage(%)\"].append(percentage_used)\n",
    "            data[\"Acc(%)\"].append(accuracy * 100)\n",
    "                \n",
    "\n",
    "                \n",
    "        df = pd.DataFrame(data)\n",
    "\n",
    "        # Step 2: Plot the data using pandas DataFrame's plot method\n",
    "        ax = df.plot()\n",
    "\n",
    "        # Step 3: Customize the plot\n",
    "        ax.set_title(f'{self._n -1} gram memory usage and acc')\n",
    "        ax.set_xlabel('index')\n",
    "        ax.set_ylabel('%')\n",
    "        ax.grid(True)\n",
    "\n",
    "        # Step 4: Save the plot as an image file\n",
    "        plt.savefig(output_file_name, dpi=300, bbox_inches='tight')  # Save the figure\n",
    "        \n",
    "        # Calculate accuracy\n",
    "        \n",
    "        return data"
   ]
  },
  {
   "cell_type": "markdown",
   "metadata": {},
   "source": [
    "## Load data"
   ]
  },
  {
   "cell_type": "code",
   "execution_count": 70,
   "metadata": {},
   "outputs": [],
   "source": [
    "with open(\"./train.txt\" , mode=\"r\") as f_train, open(\"./test.txt\", mode=\"r\") as f_test:\n",
    "    train_data = [line.strip() for line in f_train.readlines()]\n",
    "    test_data =  [line.strip() for line in f_test.readlines()]\n",
    "    "
   ]
  },
  {
   "cell_type": "markdown",
   "metadata": {},
   "source": [
    "## Build model"
   ]
  },
  {
   "cell_type": "code",
   "execution_count": 71,
   "metadata": {},
   "outputs": [],
   "source": [
    "model_2 = N_grams(2)"
   ]
  },
  {
   "cell_type": "code",
   "execution_count": 72,
   "metadata": {},
   "outputs": [],
   "source": [
    "model_3 = N_grams(3)"
   ]
  },
  {
   "cell_type": "code",
   "execution_count": 73,
   "metadata": {},
   "outputs": [
    {
     "name": "stderr",
     "output_type": "stream",
     "text": [
      "Training: 100%|██████████| 2599668/2599668 [00:10<00:00, 239971.82line/s]\n"
     ]
    }
   ],
   "source": [
    "model_2.train(train_data)"
   ]
  },
  {
   "cell_type": "code",
   "execution_count": 74,
   "metadata": {},
   "outputs": [
    {
     "name": "stderr",
     "output_type": "stream",
     "text": [
      "Training:   0%|          | 0/2599668 [00:00<?, ?line/s]"
     ]
    },
    {
     "name": "stderr",
     "output_type": "stream",
     "text": [
      "Training: 100%|██████████| 2599668/2599668 [00:12<00:00, 208881.30line/s]\n"
     ]
    }
   ],
   "source": [
    "model_3.train(train_data)"
   ]
  },
  {
   "cell_type": "code",
   "execution_count": 9,
   "metadata": {},
   "outputs": [
    {
     "name": "stderr",
     "output_type": "stream",
     "text": [
      "Testing: 100%|██████████| 649918/649918 [01:41<00:00, 6386.98line/s]\n"
     ]
    },
    {
     "data": {
      "text/html": [
       "<pre style=\"white-space:pre;overflow-x:auto;line-height:normal;font-family:Menlo,'DejaVu Sans Mono',consolas,'Courier New',monospace\"><span style=\"color: #008080; text-decoration-color: #008080; font-weight: bold\">35.71754738420279</span>\n",
       "</pre>\n"
      ],
      "text/plain": [
       "\u001b[1;36m35.71754738420279\u001b[0m\n"
      ]
     },
     "metadata": {},
     "output_type": "display_data"
    },
    {
     "data": {
      "image/png": "[encoded data removed]",
      "text/plain": [
       "<Figure size 640x480 with 1 Axes>"
      ]
     },
     "metadata": {},
     "output_type": "display_data"
    }
   ],
   "source": [
    "res_2 = model_2.test_model(test_data, output_file_name=\"res2.png\")\n",
    "print(res_2[\"Acc(%)\"][-1])"
   ]
  },
  {
   "cell_type": "code",
   "execution_count": 10,
   "metadata": {},
   "outputs": [
    {
     "name": "stderr",
     "output_type": "stream",
     "text": [
      "Testing: 100%|██████████| 649918/649918 [00:38<00:00, 16666.52line/s]\n"
     ]
    },
    {
     "data": {
      "text/html": [
       "<pre style=\"white-space:pre;overflow-x:auto;line-height:normal;font-family:Menlo,'DejaVu Sans Mono',consolas,'Courier New',monospace\"><span style=\"color: #008080; text-decoration-color: #008080; font-weight: bold\">36.58432955673828</span>\n",
       "</pre>\n"
      ],
      "text/plain": [
       "\u001b[1;36m36.58432955673828\u001b[0m\n"
      ]
     },
     "metadata": {},
     "output_type": "display_data"
    },
    {
     "data": {
      "image/png": "[encoded data removed]",
      "text/plain": [
       "<Figure size 640x480 with 1 Axes>"
      ]
     },
     "metadata": {},
     "output_type": "display_data"
    }
   ],
   "source": [
    "res_3 = model_3.test_model(test_data, output_file_name=\"res3.png\")\n",
    "print(res_3[\"Acc(%)\"][-1])"
   ]
  },
  {
   "cell_type": "markdown",
   "metadata": {},
   "source": [
    "## Report on Hardware and N-gram Model Performance\n",
    "\n",
    "In N-gram models, the choice of `n` (the number of words grouped together) significantly influences both model accuracy and resource usage. As `n` increases, such as moving from a 2-gram to a 3-gram model, both RAM usage and prediction accuracy rise due to the increased context and data required to maintain larger groups of words.\n",
    "\n",
    "A 3-gram model uses more RAM than a 2-gram model, as it needs to store and access a larger number of word combinations. This additional memory usage enables the model to capture richer contextual information, as a 3-gram model considers three-word sequences rather than two. Consequently, this results in a higher prediction accuracy for 3-gram models, as they have a broader context for predicting the next word. This makes the 3-gram model more suitable for tasks involving nuanced language modeling and word prediction, despite the increased memory requirement."
   ]
  },
  {
   "cell_type": "markdown",
   "metadata": {},
   "source": [
    "## incomplete "
   ]
  },
  {
   "cell_type": "code",
   "execution_count": 75,
   "metadata": {},
   "outputs": [],
   "source": [
    "with open(\"./incomplete.txt\", mode=\"r\") as f:\n",
    "    data = [line.strip() for line in f.readlines()]"
   ]
  },
  {
   "cell_type": "code",
   "execution_count": 83,
   "metadata": {},
   "outputs": [
    {
     "data": {
      "text/html": [
       "<pre style=\"white-space:pre;overflow-x:auto;line-height:normal;font-family:Menlo,'DejaVu Sans Mono',consolas,'Courier New',monospace\"><span style=\"font-weight: bold\">[</span>\n",
       "    <span style=\"color: #008000; text-decoration-color: #008000\">'cover with foil and bake for about 5 minutes or until the mixture into the pan and bake for about 5 minutes'</span>,\n",
       "    <span style=\"color: #008000; text-decoration-color: #008000\">'roll up and place in a large bowl and mix well and set aside to cool completely on wire rack to cool'</span>,\n",
       "    <span style=\"color: #008000; text-decoration-color: #008000\">'cook the pasta and cook for about 5 minutes or until the mixture into the pan and bake for about 5 minutes'</span>,\n",
       "    <span style=\"color: #008000; text-decoration-color: #008000\">'stir in the center of the pan and bake for about 5 minutes or until the mixture into the pan and bake'</span>,\n",
       "    <span style=\"color: #008000; text-decoration-color: #008000\">'spread out on a baking sheet and bake for about 5 minutes or until the mixture into the pan and bake for'</span>,\n",
       "    <span style=\"color: #008000; text-decoration-color: #008000\">'transfer the mixture into the pan and bake for about 5 minutes or until the mixture into the pan and bake </span>\n",
       "<span style=\"color: #008000; text-decoration-color: #008000\">for'</span>,\n",
       "    <span style=\"color: #008000; text-decoration-color: #008000\">'put the chicken and cook for about 5 minutes or until the mixture into the pan and bake for about 5 minutes'</span>,\n",
       "    <span style=\"color: #008000; text-decoration-color: #008000\">'push the dough into a large bowl and mix well and set aside to cool completely on wire rack to cool </span>\n",
       "<span style=\"color: #008000; text-decoration-color: #008000\">completely'</span>,\n",
       "    <span style=\"color: #008000; text-decoration-color: #008000\">'cut into squares and serve with a fork and serve with a fork and serve with a fork and serve with a'</span>,\n",
       "    <span style=\"color: #008000; text-decoration-color: #008000\">'toss the salad and toss to coat the bottom of the pan and bake for about 5 minutes or until the mixture'</span>\n",
       "<span style=\"font-weight: bold\">]</span>\n",
       "</pre>\n"
      ],
      "text/plain": [
       "\u001b[1m[\u001b[0m\n",
       "    \u001b[32m'cover with foil and bake for about 5 minutes or until the mixture into the pan and bake for about 5 minutes'\u001b[0m,\n",
       "    \u001b[32m'roll up and place in a large bowl and mix well and set aside to cool completely on wire rack to cool'\u001b[0m,\n",
       "    \u001b[32m'cook the pasta and cook for about 5 minutes or until the mixture into the pan and bake for about 5 minutes'\u001b[0m,\n",
       "    \u001b[32m'stir in the center of the pan and bake for about 5 minutes or until the mixture into the pan and bake'\u001b[0m,\n",
       "    \u001b[32m'spread out on a baking sheet and bake for about 5 minutes or until the mixture into the pan and bake for'\u001b[0m,\n",
       "    \u001b[32m'transfer the mixture into the pan and bake for about 5 minutes or until the mixture into the pan and bake \u001b[0m\n",
       "\u001b[32mfor'\u001b[0m,\n",
       "    \u001b[32m'put the chicken and cook for about 5 minutes or until the mixture into the pan and bake for about 5 minutes'\u001b[0m,\n",
       "    \u001b[32m'push the dough into a large bowl and mix well and set aside to cool completely on wire rack to cool \u001b[0m\n",
       "\u001b[32mcompletely'\u001b[0m,\n",
       "    \u001b[32m'cut into squares and serve with a fork and serve with a fork and serve with a fork and serve with a'\u001b[0m,\n",
       "    \u001b[32m'toss the salad and toss to coat the bottom of the pan and bake for about 5 minutes or until the mixture'\u001b[0m\n",
       "\u001b[1m]\u001b[0m\n"
      ]
     },
     "metadata": {},
     "output_type": "display_data"
    }
   ],
   "source": [
    "res = [model_2.predict_all(item.split(\" \"), num=20) for item in data]\n",
    "res = [' '.join(item ) for item in res]\n",
    "print(res)"
   ]
  },
  {
   "cell_type": "markdown",
   "metadata": {},
   "source": [
    "## Part 2 RNN"
   ]
  },
  {
   "cell_type": "code",
   "execution_count": 1,
   "metadata": {},
   "outputs": [],
   "source": [
    "from dataclasses import dataclass\n",
    "import torch\n",
    "import torch.nn as nn\n",
    "import torch.optim as optim\n",
    "import numpy as np\n",
    "import lightning as L\n",
    "import torch.nn.functional as F\n",
    "from torch.nn.utils.rnn import pad_sequence\n",
    "from torch.utils.data import DataLoader, Dataset\n",
    "from lightning.pytorch.loggers import TensorBoardLogger\n",
    "from tqdm import tqdm\n",
    "import pandas as pd\n",
    "from pathlib import Path\n",
    "from lightning.pytorch.callbacks import ModelCheckpoint\n",
    "import re\n",
    "from collections import defaultdict, Counter\n",
    "from typing import Callable\n",
    "from natsort import natsorted\n",
    "\n",
    "torch.set_float32_matmul_precision(\"high\")"
   ]
  },
  {
   "cell_type": "code",
   "execution_count": 2,
   "metadata": {},
   "outputs": [],
   "source": [
    "@dataclass\n",
    "class Lib:\n",
    "    word2idx: dict[str, int]\n",
    "    idx2word: dict[int, str]\n",
    "    size: int\n",
    "\n",
    "    def word_2_index(self, word: str) -> int:\n",
    "        return self.word2idx.get(word, self.word2idx[\"<UNK>\"])  # \"<UNK>\"\n",
    "\n",
    "    def index_2_word(self, index: int) -> str:\n",
    "        return self.idx2word.get(index, \" \")\n",
    "\n",
    "    @staticmethod\n",
    "    def natural_split(text: str, no_symbol: bool = True) -> list[str]:\n",
    "        pattern = r\"([a-zA-Z0-9]+|[^\\s\\w]|[\\s]+)\" if not no_symbol else r\"[a-zA-Z0-9]+\"\n",
    "        result = re.findall(pattern, text)\n",
    "        return result\n",
    "\n",
    "    @classmethod\n",
    "    def build_from_text(cls, str_list: list[str]):\n",
    "        group = \" \".join(str_list)\n",
    "        vocab = set(\n",
    "            Lib.natural_split(group, False)\n",
    "            + [\"<START>\", \"<END>\", \"<PAD>\", \"<UNK>\"]  # ,\n",
    "        )\n",
    "\n",
    "        vocab = natsorted(vocab)\n",
    "\n",
    "        word2idx = {\n",
    "            word: i\n",
    "            for i, word in tqdm(enumerate(vocab), desc=\"build word 2 idx\", unit=\"word\")\n",
    "        }\n",
    "        idx2word = {\n",
    "            idx: word\n",
    "            for word, idx in tqdm(word2idx.items(), desc=\"build idx 2 word\", unit=\"idx\")\n",
    "        }\n",
    "\n",
    "        return cls(word2idx, idx2word, len(word2idx))\n",
    "\n",
    "    @classmethod\n",
    "    def build_from_file(cls, filename: str):\n",
    "        with open(filename, \"r\") as f:\n",
    "            data = [item.strip() for item in f.readlines()]\n",
    "        return cls.build_from_text(data)\n",
    "\n",
    "    def sentence_to_idx_tensor(self, sentence: list[str]):\n",
    "        return torch.tensor(\n",
    "            [self.word_2_index(word) for word in sentence], dtype=torch.long\n",
    "        )\n",
    "\n",
    "    def word_to_tensor(self, word: str) -> torch.Tensor:\n",
    "        tensor = torch.zeros(self.size)\n",
    "        index = self.word_2_index(word)\n",
    "\n",
    "        tensor[index] = 1\n",
    "        return tensor\n",
    "\n",
    "    def tensor_to_sentence(self, tensor: torch.Tensor) -> str:\n",
    "        return \" \".join([self.index_2_word(int(item)) for item in tensor])\n",
    "\n",
    "    def __len__(self) -> int:\n",
    "        return self.size\n"
   ]
  },
  {
   "cell_type": "markdown",
   "metadata": {},
   "source": [
    "## Build a dataset"
   ]
  },
  {
   "cell_type": "code",
   "execution_count": 3,
   "metadata": {},
   "outputs": [],
   "source": [
    "class TextDataset(Dataset):\n",
    "    def __init__(\n",
    "        self, sentences: str, n_list: int, text_lib: Lib, train_mode: bool = True\n",
    "    ):\n",
    "        self.n_list = n_list\n",
    "        self.text_lib = text_lib\n",
    "        self.data = TextDataset.process_data(sentences, n_list, train_mode)\n",
    "        return\n",
    "\n",
    "    @staticmethod\n",
    "    def gen_process_data(sentences: str, n_list: list[int]):\n",
    "        for n in n_list:\n",
    "            for sentence in tqdm(\n",
    "                sentences,\n",
    "                desc=f\"process({n})\",\n",
    "                unit=\"line\",\n",
    "                dynamic_ncols=True,\n",
    "                leave=True,\n",
    "            ):\n",
    "                line = Lib.natural_split(sentence)\n",
    "\n",
    "                line = [\"<START>\"] + line + [\"<END>\"] + [\"<PAD>\"] * (n - len(line))\n",
    "\n",
    "                for i in range(len(line) - n):\n",
    "                    input_str = line[i : i + n]\n",
    "                    target_str = line[i + n]\n",
    "\n",
    "                    yield tuple(input_str), target_str\n",
    "\n",
    "    @staticmethod\n",
    "    def process_data(sentences: str, n_list: list[int], train_mode: bool):\n",
    "        if not train_mode:\n",
    "            data = [\n",
    "                (input_str, target_str)\n",
    "                for input_str, target_str in TextDataset.gen_process_data(\n",
    "                    sentences, n_list\n",
    "                )\n",
    "            ]\n",
    "            return data\n",
    "\n",
    "        # train mode\n",
    "        data_dict = defaultdict(list)\n",
    "\n",
    "        for input_str, target_str in TextDataset.gen_process_data(sentences, n_list):\n",
    "            k, v = input_str, target_str\n",
    "\n",
    "            data_dict[k].append(v)\n",
    "\n",
    "        for k in tqdm(\n",
    "            data_dict.keys(),\n",
    "            desc=\"counting\",\n",
    "            unit=\"pair\",\n",
    "            dynamic_ncols=True,\n",
    "            leave=True,\n",
    "        ):\n",
    "            large_word = Counter(data_dict[k]).most_common(1)\n",
    "            data_dict[k] = large_word[0][0]\n",
    "\n",
    "        return list(data_dict.items())\n",
    "\n",
    "    def __len__(self):\n",
    "        return len(self.data)\n",
    "\n",
    "    def __getitem__(self, index: int) -> tuple[torch.Tensor, torch.Tensor]:\n",
    "        input_str, target_str = self.data[index]\n",
    "        input_tensor = self.text_lib.sentence_to_idx_tensor(input_str)\n",
    "        target_tensor = self.text_lib.sentence_to_idx_tensor([target_str])\n",
    "        return input_tensor, target_tensor\n",
    "\n",
    "    @classmethod\n",
    "    def build_from_file(\n",
    "        cls,\n",
    "        filename: str,\n",
    "        n_list: int,\n",
    "        lib: Lib = None,\n",
    "        train_mode: bool = False,\n",
    "        filter_: Callable = None,\n",
    "    ):\n",
    "        with open(file=filename, mode=\"r\") as f:\n",
    "            data = [line.strip() for line in f.readlines()]\n",
    "\n",
    "        if filter_ is not None:\n",
    "            data = list(filter(filter_, data))\n",
    "\n",
    "        if lib is None:\n",
    "            lib = Lib.build_from_text(data)\n",
    "\n",
    "        return cls(data, n_list, lib, train_mode)"
   ]
  },
  {
   "cell_type": "markdown",
   "metadata": {},
   "source": [
    "## RNN Model\n"
   ]
  },
  {
   "cell_type": "code",
   "execution_count": 4,
   "metadata": {},
   "outputs": [],
   "source": [
    "class RnnModel(L.LightningModule):\n",
    "    def __init__(\n",
    "        self,\n",
    "        vocab_size: int,\n",
    "        embedding_dim: int,\n",
    "        hidden_size: int,\n",
    "        output_size: int,\n",
    "        num_layers=1,\n",
    "    ):\n",
    "        super().__init__()\n",
    "        self.embedding = nn.Embedding(vocab_size, embedding_dim)\n",
    "        self.rnn = nn.RNN(\n",
    "            embedding_dim,\n",
    "            hidden_size,\n",
    "            num_layers,\n",
    "            batch_first=True,\n",
    "            dropout=0.1,\n",
    "        )\n",
    "        self.fc = nn.Linear(hidden_size, output_size)\n",
    "        self.save_hyperparameters()\n",
    "        return\n",
    "\n",
    "    def forward(self, x):\n",
    "        x = self.embedding(x)\n",
    "        out, _ = self.rnn(x)\n",
    "        out = self.fc(out[:, -1, :])\n",
    "        return out\n",
    "\n",
    "    def configure_optimizers(self):\n",
    "        optimizer = optim.Adam(self.parameters(), lr=0.001)\n",
    "        return optimizer\n",
    "\n",
    "    def training_step(self, train_batch, batch_idx):\n",
    "\n",
    "        input_tensor, target_tensor = train_batch\n",
    "        target_tensor = target_tensor.squeeze(dim=1)\n",
    "\n",
    "        output = self.forward(input_tensor)\n",
    "        loss = F.cross_entropy(input=output, target=target_tensor)\n",
    "\n",
    "        predicted_tensor = torch.argmax(output, dim=1)\n",
    "        accuracy = (predicted_tensor == target_tensor).float().mean()\n",
    "\n",
    "        self.log_dict(\n",
    "            {\"train_loss\": loss, \"tran_acc\": accuracy},\n",
    "            on_step=True,\n",
    "            on_epoch=True,\n",
    "            logger=True,\n",
    "        )\n",
    "\n",
    "        return loss\n",
    "\n",
    "    def validation_step(self, val_batch, batch_idx):\n",
    "\n",
    "        input_tensor, target_tensor = val_batch\n",
    "        target_tensor = target_tensor.squeeze(dim=1)\n",
    "\n",
    "        output = self.forward(input_tensor)\n",
    "        loss = F.cross_entropy(input=output, target=target_tensor)\n",
    "\n",
    "        predicted_tensor = torch.argmax(output, dim=1)\n",
    "        accuracy = (predicted_tensor == target_tensor).float().mean()\n",
    "\n",
    "        # Calculate perplexity\n",
    "        log_probs = F.log_softmax(output, dim=-1)  # Get log probabilities\n",
    "        target_log_probs = log_probs.gather(1, target_tensor.unsqueeze(-1)).squeeze(\n",
    "            -1\n",
    "        )  # Log probs for true targets\n",
    "        avg_neg_log_prob = -target_log_probs.mean()  # Average negative log probability\n",
    "        perplexity = torch.exp(avg_neg_log_prob)  # Calculate perplexity\n",
    "\n",
    "        self.log_dict(\n",
    "            {\"val_loss\": loss, \"val_acc\": accuracy, \"val_perplexity\": perplexity},\n",
    "            on_step=True,\n",
    "            on_epoch=True,\n",
    "            logger=True,\n",
    "        )\n",
    "\n",
    "        return\n",
    "\n",
    "    def test_step(self, test_batch, batch_idx, dataloader_idx=0):\n",
    "        # Unpack test batch\n",
    "        input_tensor, target_tensor = test_batch\n",
    "        target_tensor = target_tensor.squeeze(dim=1)\n",
    "\n",
    "        # Forward pass\n",
    "        output = self.forward(input_tensor)\n",
    "        loss = F.cross_entropy(input=output, target=target_tensor)\n",
    "\n",
    "        predicted_tensor = torch.argmax(output, dim=1)\n",
    "        accuracy = (predicted_tensor == target_tensor).float().mean()\n",
    "\n",
    "        # Calculate perplexity\n",
    "        log_probs = F.log_softmax(output, dim=-1)  # Get log probabilities\n",
    "        target_log_probs = log_probs.gather(1, target_tensor.unsqueeze(-1)).squeeze(\n",
    "            -1\n",
    "        )  # Log probs for true targets\n",
    "        avg_neg_log_prob = -target_log_probs.mean()  # Average negative log probability\n",
    "        perplexity = torch.exp(avg_neg_log_prob)  # Calculate perplexity\n",
    "\n",
    "        self.log_dict(\n",
    "            {\"test_loss\": loss, \"test_acc\": accuracy, \"test_perplexity\": perplexity},\n",
    "            on_step=True,\n",
    "            on_epoch=True,\n",
    "            logger=True,\n",
    "        )\n",
    "\n",
    "        return\n",
    "\n",
    "    def predict_step(self, predict_batch, batch_idx):\n",
    "        input_tensor, target_tensor = predict_batch\n",
    "        target_tensor = target_tensor.squeeze(dim=1)\n",
    "\n",
    "        output = self.forward(input_tensor)\n",
    "        # loss = F.cross_entropy(input=output, target=target_tensor)\n",
    "\n",
    "        predicted_tensor = torch.argmax(output, dim=1)\n",
    "        # accuracy = (predicted_tensor == target_tensor).float().mean()\n",
    "\n",
    "        return predicted_tensor"
   ]
  },
  {
   "cell_type": "code",
   "execution_count": 12,
   "metadata": {},
   "outputs": [],
   "source": [
    "epoch = 10\n",
    "batch_size = 32\n",
    "number_of_layer = 2\n",
    "hidden = 128\n",
    "embedding_dim = 128\n",
    "prefix_len = [2, 3, 9]\n",
    "num_workers_train = 0\n",
    "num_workers_test = 2"
   ]
  },
  {
   "cell_type": "code",
   "execution_count": 5,
   "metadata": {},
   "outputs": [
    {
     "name": "stderr",
     "output_type": "stream",
     "text": [
      "build word 2 idx: 38413word [00:00, 2950352.50word/s]\n",
      "build idx 2 word: 100%|██████████| 38413/38413 [00:00<00:00, 4063757.65idx/s]\n"
     ]
    }
   ],
   "source": [
    "lib = Lib.build_from_file(\"./train.txt\")"
   ]
  },
  {
   "cell_type": "code",
   "execution_count": 8,
   "metadata": {},
   "outputs": [],
   "source": [
    "model = RnnModel(\n",
    "    vocab_size=lib.size,\n",
    "    embedding_dim=embedding_dim,\n",
    "    hidden_size=hidden,\n",
    "    output_size=lib.size,\n",
    "    num_layers=number_of_layer,\n",
    ")"
   ]
  },
  {
   "cell_type": "code",
   "execution_count": 9,
   "metadata": {},
   "outputs": [
    {
     "name": "stdout",
     "output_type": "stream",
     "text": [
      "RnnModel(\n",
      "  (embedding): Embedding(38412, 128)\n",
      "  (rnn): RNN(128, 128, num_layers=2, batch_first=True, dropout=0.1)\n",
      "  (fc): Linear(in_features=128, out_features=38412, bias=True)\n",
      ")\n"
     ]
    }
   ],
   "source": [
    "print(model)"
   ]
  },
  {
   "cell_type": "code",
   "execution_count": 80,
   "metadata": {},
   "outputs": [],
   "source": [
    "tb_logger = TensorBoardLogger(\"logs/\")"
   ]
  },
  {
   "cell_type": "code",
   "execution_count": 81,
   "metadata": {},
   "outputs": [],
   "source": [
    "checkpoint_callback = ModelCheckpoint(\n",
    "    monitor=\"val_loss\",\n",
    "    dirpath=\"checkpoints\",\n",
    "    filename=\"model-{epoch:02d}-{val_loss:.2f}\",\n",
    "    save_top_k=3,\n",
    "    mode=\"min\",\n",
    "    save_last=True,\n",
    ")"
   ]
  },
  {
   "cell_type": "code",
   "execution_count": 82,
   "metadata": {},
   "outputs": [
    {
     "name": "stderr",
     "output_type": "stream",
     "text": [
      "GPU available: True (cuda), used: True\n",
      "TPU available: False, using: 0 TPU cores\n",
      "HPU available: False, using: 0 HPUs\n"
     ]
    }
   ],
   "source": [
    "trainer = L.Trainer(callbacks=[checkpoint_callback], logger=tb_logger, max_epochs=epoch)"
   ]
  },
  {
   "cell_type": "code",
   "execution_count": 14,
   "metadata": {},
   "outputs": [
    {
     "name": "stderr",
     "output_type": "stream",
     "text": [
      "process(2): 100%|██████████| 2599668/2599668 [00:13<00:00, 194232.98line/s]\n",
      "process(3): 100%|██████████| 2599668/2599668 [00:20<00:00, 128650.44line/s]\n",
      "process(9): 100%|██████████| 2599668/2599668 [00:18<00:00, 139555.21line/s]\n",
      "counting: 100%|██████████| 8556849/8556849 [00:19<00:00, 435758.17pair/s]\n"
     ]
    }
   ],
   "source": [
    "train_dataset = TextDataset.build_from_file(\n",
    "    \"./train.txt\",\n",
    "    n_list=prefix_len,\n",
    "    lib=lib,\n",
    "    train_mode=True,\n",
    ")"
   ]
  },
  {
   "cell_type": "code",
   "execution_count": 15,
   "metadata": {},
   "outputs": [
    {
     "name": "stderr",
     "output_type": "stream",
     "text": [
      "process(9): 100%|██████████| 141131/141131 [00:00<00:00, 194743.59line/s]\n"
     ]
    }
   ],
   "source": [
    "test_dataset = TextDataset.build_from_file(\n",
    "    \"./test.txt\",\n",
    "    n_list=[9],\n",
    "    lib=lib,\n",
    "    train_mode=False,\n",
    "    filter_=lambda x: len(x.split(\" \")) > 9,\n",
    ")"
   ]
  },
  {
   "cell_type": "code",
   "execution_count": 16,
   "metadata": {},
   "outputs": [
    {
     "name": "stdout",
     "output_type": "stream",
     "text": [
      "Train : 8556849, Test : 903096\n"
     ]
    }
   ],
   "source": [
    "print(f\"Train : {len(train_dataset)}, Test : {len(test_dataset)}\")"
   ]
  },
  {
   "cell_type": "code",
   "execution_count": 31,
   "metadata": {},
   "outputs": [],
   "source": [
    "def pad_collate(batch) -> tuple[torch.Tensor, torch.Tensor]:\n",
    "    inputs, targets = zip(*batch)\n",
    "\n",
    "    # 使用 PyTorch 的 pad_sequence 函数对输入进行填充\n",
    "    inputs = pad_sequence(\n",
    "        inputs, batch_first=True, padding_value=lib.word_2_index(\"<PAD>\")\n",
    "    )\n",
    "    targets = pad_sequence(\n",
    "        targets, batch_first=True, padding_value=lib.word_2_index(\"<PAD>\")\n",
    "    )\n",
    "\n",
    "    return inputs, targets"
   ]
  },
  {
   "cell_type": "code",
   "execution_count": 79,
   "metadata": {},
   "outputs": [],
   "source": [
    "train_dataloader = DataLoader(\n",
    "    train_dataset,\n",
    "    batch_size=batch_size,\n",
    "    shuffle=True,\n",
    "    num_workers=num_workers_train,\n",
    "    collate_fn=pad_collate,\n",
    ")"
   ]
  },
  {
   "cell_type": "code",
   "execution_count": 32,
   "metadata": {},
   "outputs": [],
   "source": [
    "test_dataloader = DataLoader(\n",
    "    test_dataset,\n",
    "    batch_size=5000,\n",
    "    shuffle=False,\n",
    "    num_workers=num_workers_test,\n",
    ")"
   ]
  },
  {
   "cell_type": "code",
   "execution_count": null,
   "metadata": {},
   "outputs": [
    {
     "name": "stderr",
     "output_type": "stream",
     "text": [
      "/home/keithlin/Code/NYCU_LLM_2024/HW1/.venv/lib/python3.11/site-packages/lightning/pytorch/trainer/connectors/checkpoint_connector.py:186: .fit(ckpt_path=\"last\") is set, but there is no last checkpoint available. No checkpoint will be loaded. HINT: Set `ModelCheckpoint(..., save_last=True)`.\n",
      "You are using a CUDA device ('NVIDIA GeForce RTX 3070') that has Tensor Cores. To properly utilize them, you should set `torch.set_float32_matmul_precision('medium' | 'high')` which will trade-off precision for performance. For more details, read https://pytorch.org/docs/stable/generated/torch.set_float32_matmul_precision.html#torch.set_float32_matmul_precision\n",
      "LOCAL_RANK: 0 - CUDA_VISIBLE_DEVICES: [0]\n",
      "\n",
      "  | Name      | Type      | Params | Mode \n",
      "------------------------------------------------\n",
      "0 | embedding | Embedding | 8.1 M  | train\n",
      "1 | rnn       | RNN       | 66.0 K | train\n",
      "2 | fc        | Linear    | 8.1 M  | train\n",
      "------------------------------------------------\n",
      "16.3 M    Trainable params\n",
      "0         Non-trainable params\n",
      "16.3 M    Total params\n",
      "65.099    Total estimated model params size (MB)\n",
      "3         Modules in train mode\n",
      "0         Modules in eval mode\n"
     ]
    },
    {
     "name": "stdout",
     "output_type": "stream",
     "text": [
      "Sanity Checking: |          | 0/? [00:00<?, ?it/s]"
     ]
    },
    {
     "name": "stderr",
     "output_type": "stream",
     "text": [
      "/home/keithlin/Code/NYCU_LLM_2024/HW1/.venv/lib/python3.11/site-packages/lightning/pytorch/trainer/connectors/data_connector.py:475: Your `val_dataloader`'s sampler has shuffling enabled, it is strongly recommended that you turn shuffling off for val/test dataloaders.\n",
      "/home/keithlin/Code/NYCU_LLM_2024/HW1/.venv/lib/python3.11/site-packages/lightning/pytorch/trainer/connectors/data_connector.py:424: The 'val_dataloader' does not have many workers which may be a bottleneck. Consider increasing the value of the `num_workers` argument` to `num_workers=11` in the `DataLoader` to improve performance.\n"
     ]
    },
    {
     "name": "stdout",
     "output_type": "stream",
     "text": [
      "                                                                           "
     ]
    },
    {
     "name": "stderr",
     "output_type": "stream",
     "text": [
      "/home/keithlin/Code/NYCU_LLM_2024/HW1/.venv/lib/python3.11/site-packages/lightning/pytorch/trainer/connectors/data_connector.py:424: The 'train_dataloader' does not have many workers which may be a bottleneck. Consider increasing the value of the `num_workers` argument` to `num_workers=11` in the `DataLoader` to improve performance.\n"
     ]
    },
    {
     "name": "stdout",
     "output_type": "stream",
     "text": [
      "Epoch 0: 100%|██████████| 389838/389838 [1:06:06<00:00, 98.29it/s, v_num=1, train_loss_step=10.90, tran_acc_step=0.160] "
     ]
    }
   ],
   "source": [
    "trainer.fit(model, train_dataloader,test_dataloader,ckpt_path=\"last\")"
   ]
  },
  {
   "cell_type": "code",
   "execution_count": 17,
   "metadata": {},
   "outputs": [
    {
     "data": {
      "text/html": [
       "<div>\n",
       "<style scoped>\n",
       "    .dataframe tbody tr th:only-of-type {\n",
       "        vertical-align: middle;\n",
       "    }\n",
       "\n",
       "    .dataframe tbody tr th {\n",
       "        vertical-align: top;\n",
       "    }\n",
       "\n",
       "    .dataframe thead th {\n",
       "        text-align: right;\n",
       "    }\n",
       "</style>\n",
       "<table border=\"1\" class=\"dataframe\">\n",
       "  <thead>\n",
       "    <tr style=\"text-align: right;\">\n",
       "      <th></th>\n",
       "      <th>Training Loss</th>\n",
       "    </tr>\n",
       "  </thead>\n",
       "  <tbody>\n",
       "    <tr>\n",
       "      <th>0</th>\n",
       "      <td>4.256882</td>\n",
       "    </tr>\n",
       "    <tr>\n",
       "      <th>1</th>\n",
       "      <td>3.341042</td>\n",
       "    </tr>\n",
       "    <tr>\n",
       "      <th>2</th>\n",
       "      <td>3.076217</td>\n",
       "    </tr>\n",
       "    <tr>\n",
       "      <th>3</th>\n",
       "      <td>2.944513</td>\n",
       "    </tr>\n",
       "    <tr>\n",
       "      <th>4</th>\n",
       "      <td>2.860073</td>\n",
       "    </tr>\n",
       "    <tr>\n",
       "      <th>5</th>\n",
       "      <td>2.799371</td>\n",
       "    </tr>\n",
       "    <tr>\n",
       "      <th>6</th>\n",
       "      <td>2.751592</td>\n",
       "    </tr>\n",
       "    <tr>\n",
       "      <th>7</th>\n",
       "      <td>2.713658</td>\n",
       "    </tr>\n",
       "    <tr>\n",
       "      <th>8</th>\n",
       "      <td>2.682947</td>\n",
       "    </tr>\n",
       "    <tr>\n",
       "      <th>9</th>\n",
       "      <td>2.656434</td>\n",
       "    </tr>\n",
       "  </tbody>\n",
       "</table>\n",
       "</div>"
      ],
      "text/plain": [
       "   Training Loss\n",
       "0       4.256882\n",
       "1       3.341042\n",
       "2       3.076217\n",
       "3       2.944513\n",
       "4       2.860073\n",
       "5       2.799371\n",
       "6       2.751592\n",
       "7       2.713658\n",
       "8       2.682947\n",
       "9       2.656434"
      ]
     },
     "execution_count": 17,
     "metadata": {},
     "output_type": "execute_result"
    }
   ],
   "source": [
    "df_loss = pd.read_csv(\"./logs_csv/lightning_logs_version_3_loss.csv\")\n",
    "df_loss = df_loss.drop(columns=[\"Wall time\",\"Step\"])\n",
    "df_loss = df_loss.rename(columns={\"Value\":\"Training Loss\"})\n",
    "df_loss"
   ]
  },
  {
   "cell_type": "code",
   "execution_count": 18,
   "metadata": {},
   "outputs": [
    {
     "data": {
      "text/plain": [
       "<Axes: title={'center': 'Training loss'}, xlabel='epoch', ylabel='loss'>"
      ]
     },
     "execution_count": 18,
     "metadata": {},
     "output_type": "execute_result"
    },
    {
     "data": {
      "image/png": "[encoded data removed]",
      "text/plain": [
       "<Figure size 640x480 with 1 Axes>"
      ]
     },
     "metadata": {},
     "output_type": "display_data"
    }
   ],
   "source": [
    "df_loss.plot(y=\"Training Loss\",title=\"Training loss\", ylabel=\"loss\", xlabel=\"epoch\")"
   ]
  },
  {
   "cell_type": "code",
   "execution_count": 19,
   "metadata": {},
   "outputs": [
    {
     "data": {
      "text/html": [
       "<div>\n",
       "<style scoped>\n",
       "    .dataframe tbody tr th:only-of-type {\n",
       "        vertical-align: middle;\n",
       "    }\n",
       "\n",
       "    .dataframe tbody tr th {\n",
       "        vertical-align: top;\n",
       "    }\n",
       "\n",
       "    .dataframe thead th {\n",
       "        text-align: right;\n",
       "    }\n",
       "</style>\n",
       "<table border=\"1\" class=\"dataframe\">\n",
       "  <thead>\n",
       "    <tr style=\"text-align: right;\">\n",
       "      <th></th>\n",
       "      <th>Training Acc</th>\n",
       "    </tr>\n",
       "  </thead>\n",
       "  <tbody>\n",
       "    <tr>\n",
       "      <th>0</th>\n",
       "      <td>0.368894</td>\n",
       "    </tr>\n",
       "    <tr>\n",
       "      <th>1</th>\n",
       "      <td>0.435935</td>\n",
       "    </tr>\n",
       "    <tr>\n",
       "      <th>2</th>\n",
       "      <td>0.460538</td>\n",
       "    </tr>\n",
       "    <tr>\n",
       "      <th>3</th>\n",
       "      <td>0.473758</td>\n",
       "    </tr>\n",
       "    <tr>\n",
       "      <th>4</th>\n",
       "      <td>0.482221</td>\n",
       "    </tr>\n",
       "    <tr>\n",
       "      <th>5</th>\n",
       "      <td>0.488294</td>\n",
       "    </tr>\n",
       "    <tr>\n",
       "      <th>6</th>\n",
       "      <td>0.492895</td>\n",
       "    </tr>\n",
       "    <tr>\n",
       "      <th>7</th>\n",
       "      <td>0.496335</td>\n",
       "    </tr>\n",
       "    <tr>\n",
       "      <th>8</th>\n",
       "      <td>0.499267</td>\n",
       "    </tr>\n",
       "    <tr>\n",
       "      <th>9</th>\n",
       "      <td>0.501644</td>\n",
       "    </tr>\n",
       "  </tbody>\n",
       "</table>\n",
       "</div>"
      ],
      "text/plain": [
       "   Training Acc\n",
       "0      0.368894\n",
       "1      0.435935\n",
       "2      0.460538\n",
       "3      0.473758\n",
       "4      0.482221\n",
       "5      0.488294\n",
       "6      0.492895\n",
       "7      0.496335\n",
       "8      0.499267\n",
       "9      0.501644"
      ]
     },
     "execution_count": 19,
     "metadata": {},
     "output_type": "execute_result"
    }
   ],
   "source": [
    "df_acc = pd.read_csv(\"./logs_csv/lightning_logs_version_3_acc.csv\")\n",
    "df_acc = df_acc.drop(columns=[\"Wall time\",\"Step\"])\n",
    "df_acc = df_acc.rename(columns={\"Value\":\"Training Acc\"})\n",
    "df_acc"
   ]
  },
  {
   "cell_type": "code",
   "execution_count": 20,
   "metadata": {},
   "outputs": [
    {
     "data": {
      "text/plain": [
       "<Axes: title={'center': 'Training acc'}, xlabel='epoch', ylabel='acc'>"
      ]
     },
     "execution_count": 20,
     "metadata": {},
     "output_type": "execute_result"
    },
    {
     "data": {
      "image/png": "[encoded data removed]",
      "text/plain": [
       "<Figure size 640x480 with 1 Axes>"
      ]
     },
     "metadata": {},
     "output_type": "display_data"
    }
   ],
   "source": [
    "df_acc.plot(y=\"Training Acc\",title=\"Training acc\", ylabel=\"acc\", xlabel=\"epoch\")"
   ]
  },
  {
   "cell_type": "markdown",
   "metadata": {},
   "source": [
    "## Check Rnn model in test acc"
   ]
  },
  {
   "cell_type": "code",
   "execution_count": 6,
   "metadata": {},
   "outputs": [
    {
     "name": "stdout",
     "output_type": "stream",
     "text": [
      "RnnModel(\n",
      "  (embedding): Embedding(38413, 128)\n",
      "  (rnn): RNN(128, 128, num_layers=2, batch_first=True, dropout=0.1)\n",
      "  (fc): Linear(in_features=128, out_features=38413, bias=True)\n",
      ")\n"
     ]
    }
   ],
   "source": [
    "model_load = RnnModel.load_from_checkpoint(\n",
    "    \"./logs/lightning_logs/version_3/checkpoints/model-epoch=09-val_loss=3.10.ckpt\",\n",
    ")\n",
    "print(model_load)"
   ]
  },
  {
   "cell_type": "code",
   "execution_count": 17,
   "metadata": {},
   "outputs": [
    {
     "name": "stderr",
     "output_type": "stream",
     "text": [
      "process(2): 100%|██████████| 649918/649918 [00:03<00:00, 178309.69line/s]\n",
      "process(3): 100%|██████████| 649918/649918 [00:04<00:00, 159149.12line/s]\n",
      "process(9): 100%|██████████| 141131/141131 [00:00<00:00, 187528.87line/s]\n"
     ]
    }
   ],
   "source": [
    "test_dataset_plus_2 = TextDataset.build_from_file(\n",
    "    \"./test.txt\",\n",
    "    n_list=[2],\n",
    "    lib=lib,\n",
    "    train_mode=False\n",
    ")\n",
    "test_dataset_plus_3 = TextDataset.build_from_file(\n",
    "    \"./test.txt\",\n",
    "    n_list=[3],\n",
    "    lib=lib,\n",
    "    train_mode=False\n",
    ")\n",
    "test_dataset_plus_4 = TextDataset.build_from_file(\n",
    "    \"./test.txt\",\n",
    "    n_list=[9],\n",
    "    lib=lib,\n",
    "    train_mode=False,\n",
    "    filter_= lambda x: len(x.split(\" \")) > 9, \n",
    ")"
   ]
  },
  {
   "cell_type": "code",
   "execution_count": 18,
   "metadata": {},
   "outputs": [],
   "source": [
    "test_dataloader_plus_2 = DataLoader(test_dataset_plus_2, batch_size=5000, shuffle=False, num_workers=1)\n",
    "test_dataloader_plus_3 = DataLoader(test_dataset_plus_3, batch_size=5000, shuffle=False, num_workers=1)\n",
    "test_dataloader_plus_4 = DataLoader(test_dataset_plus_4, batch_size=5000, shuffle=False, num_workers=1)\n",
    "\n"
   ]
  },
  {
   "cell_type": "code",
   "execution_count": 19,
   "metadata": {},
   "outputs": [
    {
     "name": "stderr",
     "output_type": "stream",
     "text": [
      "GPU available: True (cuda), used: True\n",
      "TPU available: False, using: 0 TPU cores\n",
      "HPU available: False, using: 0 HPUs\n"
     ]
    }
   ],
   "source": [
    "trainer_plus = L.Trainer()"
   ]
  },
  {
   "cell_type": "code",
   "execution_count": 20,
   "metadata": {},
   "outputs": [
    {
     "name": "stderr",
     "output_type": "stream",
     "text": [
      "LOCAL_RANK: 0 - CUDA_VISIBLE_DEVICES: [0]\n",
      "/home/keithlin/Code/NYCU_LLM_2024/HW1/.venv/lib/python3.11/site-packages/lightning/pytorch/trainer/connectors/data_connector.py:424: The 'test_dataloader' does not have many workers which may be a bottleneck. Consider increasing the value of the `num_workers` argument` to `num_workers=11` in the `DataLoader` to improve performance.\n"
     ]
    },
    {
     "name": "stdout",
     "output_type": "stream",
     "text": [
      "Testing DataLoader 2: 100%|██████████| 181/181 [00:16<00:00, 11.12it/s]\n"
     ]
    },
    {
     "data": {
      "text/html": [
       "<pre style=\"white-space:pre;overflow-x:auto;line-height:normal;font-family:Menlo,'DejaVu Sans Mono',consolas,'Courier New',monospace\">┏━━━━━━━━━━━━━━━━━━━━━━━━━━━┳━━━━━━━━━━━━━━━━━━━━━━━━━━━┳━━━━━━━━━━━━━━━━━━━━━━━━━━━┳━━━━━━━━━━━━━━━━━━━━━━━━━━━┓\n",
       "┃<span style=\"font-weight: bold\">        Test metric        </span>┃<span style=\"font-weight: bold\">       DataLoader 0        </span>┃<span style=\"font-weight: bold\">       DataLoader 1        </span>┃<span style=\"font-weight: bold\">       DataLoader 2        </span>┃\n",
       "┡━━━━━━━━━━━━━━━━━━━━━━━━━━━╇━━━━━━━━━━━━━━━━━━━━━━━━━━━╇━━━━━━━━━━━━━━━━━━━━━━━━━━━╇━━━━━━━━━━━━━━━━━━━━━━━━━━━┩\n",
       "│<span style=\"color: #008080; text-decoration-color: #008080\">      test_acc_epoch       </span>│<span style=\"color: #800080; text-decoration-color: #800080\">    0.2914066016674042     </span>│<span style=\"color: #800080; text-decoration-color: #800080\">    0.3600669801235199     </span>│<span style=\"color: #800080; text-decoration-color: #800080\">    0.3780927062034607     </span>│\n",
       "│<span style=\"color: #008080; text-decoration-color: #008080\">      test_loss_epoch      </span>│<span style=\"color: #800080; text-decoration-color: #800080\">     4.179619789123535     </span>│<span style=\"color: #800080; text-decoration-color: #800080\">    3.6791200637817383     </span>│<span style=\"color: #800080; text-decoration-color: #800080\">    3.5170347690582275     </span>│\n",
       "│<span style=\"color: #008080; text-decoration-color: #008080\">   test_perplexity_epoch   </span>│<span style=\"color: #800080; text-decoration-color: #800080\">     65.45535278320312     </span>│<span style=\"color: #800080; text-decoration-color: #800080\">     39.70037078857422     </span>│<span style=\"color: #800080; text-decoration-color: #800080\">    33.771759033203125     </span>│\n",
       "└───────────────────────────┴───────────────────────────┴───────────────────────────┴───────────────────────────┘\n",
       "</pre>\n"
      ],
      "text/plain": [
       "┏━━━━━━━━━━━━━━━━━━━━━━━━━━━┳━━━━━━━━━━━━━━━━━━━━━━━━━━━┳━━━━━━━━━━━━━━━━━━━━━━━━━━━┳━━━━━━━━━━━━━━━━━━━━━━━━━━━┓\n",
       "┃\u001b[1m \u001b[0m\u001b[1m       Test metric       \u001b[0m\u001b[1m \u001b[0m┃\u001b[1m \u001b[0m\u001b[1m      DataLoader 0       \u001b[0m\u001b[1m \u001b[0m┃\u001b[1m \u001b[0m\u001b[1m      DataLoader 1       \u001b[0m\u001b[1m \u001b[0m┃\u001b[1m \u001b[0m\u001b[1m      DataLoader 2       \u001b[0m\u001b[1m \u001b[0m┃\n",
       "┡━━━━━━━━━━━━━━━━━━━━━━━━━━━╇━━━━━━━━━━━━━━━━━━━━━━━━━━━╇━━━━━━━━━━━━━━━━━━━━━━━━━━━╇━━━━━━━━━━━━━━━━━━━━━━━━━━━┩\n",
       "│\u001b[36m \u001b[0m\u001b[36m     test_acc_epoch      \u001b[0m\u001b[36m \u001b[0m│\u001b[35m \u001b[0m\u001b[35m   0.2914066016674042    \u001b[0m\u001b[35m \u001b[0m│\u001b[35m \u001b[0m\u001b[35m   0.3600669801235199    \u001b[0m\u001b[35m \u001b[0m│\u001b[35m \u001b[0m\u001b[35m   0.3780927062034607    \u001b[0m\u001b[35m \u001b[0m│\n",
       "│\u001b[36m \u001b[0m\u001b[36m     test_loss_epoch     \u001b[0m\u001b[36m \u001b[0m│\u001b[35m \u001b[0m\u001b[35m    4.179619789123535    \u001b[0m\u001b[35m \u001b[0m│\u001b[35m \u001b[0m\u001b[35m   3.6791200637817383    \u001b[0m\u001b[35m \u001b[0m│\u001b[35m \u001b[0m\u001b[35m   3.5170347690582275    \u001b[0m\u001b[35m \u001b[0m│\n",
       "│\u001b[36m \u001b[0m\u001b[36m  test_perplexity_epoch  \u001b[0m\u001b[36m \u001b[0m│\u001b[35m \u001b[0m\u001b[35m    65.45535278320312    \u001b[0m\u001b[35m \u001b[0m│\u001b[35m \u001b[0m\u001b[35m    39.70037078857422    \u001b[0m\u001b[35m \u001b[0m│\u001b[35m \u001b[0m\u001b[35m   33.771759033203125    \u001b[0m\u001b[35m \u001b[0m│\n",
       "└───────────────────────────┴───────────────────────────┴───────────────────────────┴───────────────────────────┘\n"
      ]
     },
     "metadata": {},
     "output_type": "display_data"
    },
    {
     "name": "stdout",
     "output_type": "stream",
     "text": [
      "[{'test_loss_epoch/dataloader_idx_0': 4.179619789123535, 'test_acc_epoch/dataloader_idx_0': 0.2914066016674042, 'test_perplexity_epoch/dataloader_idx_0': 65.45535278320312}, {'test_loss_epoch/dataloader_idx_1': 3.6791200637817383, 'test_acc_epoch/dataloader_idx_1': 0.3600669801235199, 'test_perplexity_epoch/dataloader_idx_1': 39.70037078857422}, {'test_loss_epoch/dataloader_idx_2': 3.5170347690582275, 'test_acc_epoch/dataloader_idx_2': 0.3780927062034607, 'test_perplexity_epoch/dataloader_idx_2': 33.771759033203125}]\n"
     ]
    }
   ],
   "source": [
    "test_out = trainer_plus.test(model=model_load, dataloaders=[test_dataloader_plus_2,test_dataloader_plus_3,test_dataloader_plus_4], verbose=True)\n",
    "print(test_out)"
   ]
  },
  {
   "cell_type": "code",
   "execution_count": 21,
   "metadata": {},
   "outputs": [
    {
     "name": "stdout",
     "output_type": "stream",
     "text": [
      "['cover with', 'roll up', 'cook the', 'stir in', 'spread out', 'transfer the', 'put the', 'push the', 'cut into', 'toss the']\n"
     ]
    }
   ],
   "source": [
    "with open(\"./incomplete.txt\", mode=\"r\") as f:\n",
    "    data = [line.strip() for line in f.readlines()]\n",
    "print(data)"
   ]
  },
  {
   "cell_type": "code",
   "execution_count": 22,
   "metadata": {},
   "outputs": [],
   "source": [
    "def complete_string(prefix_list:list[str], lib:Lib, model:RnnModel, model_prefix:int, num:int)->str:    \n",
    "    \n",
    "    tensor_list = torch.stack([\n",
    "        torch.cat([\n",
    "            lib.sentence_to_idx_tensor([\"<START>\"] + prefix.split(\" \"))\n",
    "        ])\n",
    "        for prefix in prefix_list\n",
    "    ]).to(model.device) \n",
    "    \n",
    "    \n",
    "    for _ in range(num):\n",
    "        # get last 2 column        \n",
    "        if tensor_list.shape[1] < model_prefix:\n",
    "            input_tensor = tensor_list\n",
    "        else:\n",
    "            input_tensor = tensor_list[:, -model_prefix:]\n",
    "\n",
    "        output_tensor = model(input_tensor)\n",
    "        output_idx = torch.argmax(output_tensor, dim=1)\n",
    "        \n",
    "        output_idx = output_idx.unsqueeze(-1)\n",
    "        tensor_list = torch.cat((tensor_list, output_idx), dim=1)\n",
    "    \n",
    "    output = [lib.tensor_to_sentence(row) for row in tensor_list]\n",
    "    return output"
   ]
  },
  {
   "cell_type": "code",
   "execution_count": 23,
   "metadata": {},
   "outputs": [
    {
     "data": {
      "text/plain": [
       "['<START> cover with 001 02 cup of the sauce <END> <PAD> <PAD> <PAD> <PAD> <PAD> <PAD> <PAD> <PAD> <PAD> <END> <PAD> <PAD> <PAD>',\n",
       " '<START> roll up to 001 04 inch thick <END> <PAD> <PAD> <PAD> <PAD> <PAD> <PAD> <PAD> <PAD> <PAD> <END> <PAD> <PAD> <PAD> <PAD>',\n",
       " '<START> cook the onion until tender <END> <PAD> <PAD> <PAD> <PAD> <PAD> <PAD> <PAD> <PAD> <PAD> <END> <PAD> <PAD> <PAD> <PAD> <PAD> <PAD>',\n",
       " '<START> stir in the remaining ingredients <END> <PAD> <PAD> <PAD> <PAD> <PAD> <PAD> <PAD> <PAD> <PAD> <END> <PAD> <PAD> <PAD> <PAD> <PAD> <PAD>',\n",
       " '<START> spread out of the top of the cake <END> <PAD> <PAD> <PAD> <PAD> <PAD> <PAD> <PAD> <PAD> <PAD> <END> <PAD> <PAD> <PAD>',\n",
       " '<START> transfer the back to a boil <END> <PAD> <PAD> <PAD> <PAD> <PAD> <PAD> <PAD> <PAD> <PAD> <END> <PAD> <PAD> <PAD> <PAD> <PAD>',\n",
       " '<START> put the rest of the chicken in the oven <END> <PAD> <PAD> <PAD> <PAD> <PAD> <PAD> <PAD> <PAD> <PAD> <END> <PAD> <PAD>',\n",
       " '<START> push the dough into a ball <END> <PAD> <PAD> <PAD> <PAD> <PAD> <PAD> <PAD> <PAD> <PAD> <END> <PAD> <PAD> <PAD> <PAD> <PAD>',\n",
       " '<START> cut into squares <END> <PAD> <PAD> <PAD> <PAD> <PAD> <PAD> <PAD> <PAD> <PAD> <END> <PAD> <PAD> <PAD> <PAD> <PAD> <PAD> <PAD> <PAD>',\n",
       " '<START> toss the mixture into a bowl <END> <PAD> <PAD> <PAD> <PAD> <PAD> <PAD> <PAD> <PAD> <PAD> <END> <PAD> <PAD> <PAD> <PAD> <PAD>']"
      ]
     },
     "execution_count": 23,
     "metadata": {},
     "output_type": "execute_result"
    }
   ],
   "source": [
    "output = complete_string(data, lib=lib, model=model_load, model_prefix=9, num=20)\n",
    "output"
   ]
  },
  {
   "cell_type": "code",
   "execution_count": 24,
   "metadata": {},
   "outputs": [],
   "source": [
    "def extract_segments(lst):\n",
    "    segments = []\n",
    "    current_segment = []\n",
    "    start_found = False\n",
    "\n",
    "    for item in lst:\n",
    "        if item == '<START>':\n",
    "            current_segment = []\n",
    "            start_found = True\n",
    "        elif item == '<END>' and start_found:\n",
    "            segments.append(' '.join(current_segment))\n",
    "            start_found = False\n",
    "        elif start_found:\n",
    "            current_segment.append(item)\n",
    "\n",
    "    return segments[0]"
   ]
  },
  {
   "cell_type": "code",
   "execution_count": 25,
   "metadata": {},
   "outputs": [
    {
     "data": {
      "text/plain": [
       "['cover with 001 02 cup of the sauce',\n",
       " 'roll up to 001 04 inch thick',\n",
       " 'cook the onion until tender',\n",
       " 'stir in the remaining ingredients',\n",
       " 'spread out of the top of the cake',\n",
       " 'transfer the back to a boil',\n",
       " 'put the rest of the chicken in the oven',\n",
       " 'push the dough into a ball',\n",
       " 'cut into squares',\n",
       " 'toss the mixture into a bowl']"
      ]
     },
     "execution_count": 25,
     "metadata": {},
     "output_type": "execute_result"
    }
   ],
   "source": [
    "output_new = [extract_segments(item.split(\" \")) for item in output]\n",
    "output_new"
   ]
  },
  {
   "cell_type": "markdown",
   "metadata": {},
   "source": [
    "## Comparative Report: RNN and N-gram Model Performance\n",
    "\n",
    "### Model Complexity and Training Requirements\n",
    "When comparing RNN and N-gram models, several distinctions in complexity and resource requirements become evident. The RNN model, due to its sequential nature and the additional embedding layer, requires significantly more data and computational power during training. In contrast, the N-gram model is comparatively lightweight, with shorter training times and minimal data requirements, making it a simpler but less nuanced choice. Additionally, while RNN training can be substantially accelerated with GPU support, the N-gram model can typically be trained efficiently on a CPU.\n",
    "\n",
    "### Accuracy and Predictive Capabilities\n",
    "The RNN model demonstrates higher accuracy than the N-gram model, largely due to the embedded layer, which enables the RNN to process inputs of varying lengths and capture more context around each word. This adaptability allows the RNN to make more accurate predictions on a broader range of language tasks, whereas the N-gram model, constrained by fixed-length sequences, is limited in its predictive ability and struggles with longer context dependencies.\n",
    "\n",
    "### Perplexity Results: RNN vs. N-gram\n",
    "Perplexity results highlight the RNN's advantage in language understanding. The RNN model achieves a substantially lower perplexity score compared to the N-gram model, indicating a higher probability assigned to correct next words. This suggests that the RNN can model language sequences with greater confidence, while the N-gram model exhibits higher perplexity, reflecting its limited contextual scope and lower predictive accuracy.\n",
    "\n",
    "### Summary\n",
    "In summary, while the N-gram model offers a faster, less resource-intensive option, the RNN’s higher accuracy and lower perplexity make it a stronger candidate for applications requiring nuanced language comprehension, provided sufficient computational resources and data are available."
   ]
  }
 ],
 "metadata": {
  "kernelspec": {
   "display_name": ".venv",
   "language": "python",
   "name": "python3"
  },
  "language_info": {
   "codemirror_mode": {
    "name": "ipython",
    "version": 3
   },
   "file_extension": ".py",
   "mimetype": "text/x-python",
   "name": "python",
   "nbconvert_exporter": "python",
   "pygments_lexer": "ipython3",
   "version": "3.11.9"
  }
 },
 "nbformat": 4,
 "nbformat_minor": 2
}
